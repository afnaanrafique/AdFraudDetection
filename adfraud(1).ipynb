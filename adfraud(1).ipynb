{
 "cells": [
  {
   "cell_type": "code",
   "execution_count": 1,
   "metadata": {},
   "outputs": [],
   "source": [
    "import pandas as pd\n",
    "import os\n",
    "import gc\n",
    "import matplotlib.pyplot as plt\n",
    "import dask.dataframe as dd\n",
    "import numpy as np\n",
    "from sklearn.linear_model import LogisticRegression\n",
    "from sklearn.ensemble import RandomForestClassifier\n",
    "from sklearn import svm\n",
    "from sklearn.metrics import accuracy_score,roc_curve,recall_score,classification_report,mean_squared_error,confusion_matrix\n",
    "from scipy import interp\n",
    "from sklearn.metrics import roc_auc_score\n",
    "from sklearn.metrics import roc_curve, auc\n",
    "import lightgbm as lgb\n",
    "from contextlib import contextmanager\n",
    "import time\n",
    "import threading\n",
    "import random\n",
    "from sklearn.model_selection import train_test_split as model_tts"
   ]
  },
  {
   "cell_type": "code",
   "execution_count": 2,
   "metadata": {},
   "outputs": [],
   "source": [
    "dtyp = {'ip': np.int64, 'app': np.int16,'device': np.int16,'os': np.int16,'channel': np.int16,'is_attributed' : np.int16}"
   ]
  },
  {
   "cell_type": "code",
   "execution_count": 3,
   "metadata": {},
   "outputs": [
    {
     "name": "stdout",
     "output_type": "stream",
     "text": [
      "LOADING DATA..........................\n",
      "TRAINING DATA\n",
      "Loading Completed\n"
     ]
    }
   ],
   "source": [
    "print(\"LOADING DATA..........................\")\n",
    "# TRAINING DATA\n",
    "print(\"TRAINING DATA\")\n",
    "\n",
    "dfTrain = pd.read_csv(\"D:/train.csv/mnt/ssd/kaggle-talkingdata2/competition_files/train.csv\", nrows=100000)\n",
    "#need to skip 0th row as it is the header\n",
    "dfTest = pd.read_csv(\"D:/train.csv/mnt/ssd/kaggle-talkingdata2/competition_files/train.csv\", skiprows=range(1, 100000), nrows=100000)\n",
    "\n",
    "print(\"Loading Completed\")"
   ]
  },
  {
   "cell_type": "code",
   "execution_count": 4,
   "metadata": {},
   "outputs": [
    {
     "name": "stdout",
     "output_type": "stream",
     "text": [
      "original dataframe\n"
     ]
    },
    {
     "data": {
      "text/html": [
       "<div>\n",
       "<style scoped>\n",
       "    .dataframe tbody tr th:only-of-type {\n",
       "        vertical-align: middle;\n",
       "    }\n",
       "\n",
       "    .dataframe tbody tr th {\n",
       "        vertical-align: top;\n",
       "    }\n",
       "\n",
       "    .dataframe thead th {\n",
       "        text-align: right;\n",
       "    }\n",
       "</style>\n",
       "<table border=\"1\" class=\"dataframe\">\n",
       "  <thead>\n",
       "    <tr style=\"text-align: right;\">\n",
       "      <th></th>\n",
       "      <th>ip</th>\n",
       "      <th>app</th>\n",
       "      <th>device</th>\n",
       "      <th>os</th>\n",
       "      <th>channel</th>\n",
       "      <th>click_time</th>\n",
       "      <th>attributed_time</th>\n",
       "      <th>is_attributed</th>\n",
       "    </tr>\n",
       "  </thead>\n",
       "  <tbody>\n",
       "    <tr>\n",
       "      <th>0</th>\n",
       "      <td>39889</td>\n",
       "      <td>12</td>\n",
       "      <td>1</td>\n",
       "      <td>20</td>\n",
       "      <td>245</td>\n",
       "      <td>2017-11-06 16:01:48</td>\n",
       "      <td>NaN</td>\n",
       "      <td>0</td>\n",
       "    </tr>\n",
       "    <tr>\n",
       "      <th>1</th>\n",
       "      <td>109567</td>\n",
       "      <td>8</td>\n",
       "      <td>1</td>\n",
       "      <td>19</td>\n",
       "      <td>140</td>\n",
       "      <td>2017-11-06 16:01:48</td>\n",
       "      <td>NaN</td>\n",
       "      <td>0</td>\n",
       "    </tr>\n",
       "    <tr>\n",
       "      <th>2</th>\n",
       "      <td>99503</td>\n",
       "      <td>15</td>\n",
       "      <td>1</td>\n",
       "      <td>15</td>\n",
       "      <td>245</td>\n",
       "      <td>2017-11-06 16:01:48</td>\n",
       "      <td>NaN</td>\n",
       "      <td>0</td>\n",
       "    </tr>\n",
       "    <tr>\n",
       "      <th>3</th>\n",
       "      <td>20215</td>\n",
       "      <td>3</td>\n",
       "      <td>1</td>\n",
       "      <td>9</td>\n",
       "      <td>489</td>\n",
       "      <td>2017-11-06 16:01:48</td>\n",
       "      <td>NaN</td>\n",
       "      <td>0</td>\n",
       "    </tr>\n",
       "    <tr>\n",
       "      <th>4</th>\n",
       "      <td>79857</td>\n",
       "      <td>15</td>\n",
       "      <td>1</td>\n",
       "      <td>19</td>\n",
       "      <td>140</td>\n",
       "      <td>2017-11-06 16:01:48</td>\n",
       "      <td>NaN</td>\n",
       "      <td>0</td>\n",
       "    </tr>\n",
       "  </tbody>\n",
       "</table>\n",
       "</div>"
      ],
      "text/plain": [
       "       ip  app  device  os  channel           click_time attributed_time  \\\n",
       "0   39889   12       1  20      245  2017-11-06 16:01:48             NaN   \n",
       "1  109567    8       1  19      140  2017-11-06 16:01:48             NaN   \n",
       "2   99503   15       1  15      245  2017-11-06 16:01:48             NaN   \n",
       "3   20215    3       1   9      489  2017-11-06 16:01:48             NaN   \n",
       "4   79857   15       1  19      140  2017-11-06 16:01:48             NaN   \n",
       "\n",
       "   is_attributed  \n",
       "0              0  \n",
       "1              0  \n",
       "2              0  \n",
       "3              0  \n",
       "4              0  "
      ]
     },
     "execution_count": 4,
     "metadata": {},
     "output_type": "execute_result"
    }
   ],
   "source": [
    "print(\"original dataframe\")\n",
    "dfTrain.head()\n",
    "\n",
    "dfTest.head()"
   ]
  },
  {
   "cell_type": "code",
   "execution_count": 5,
   "metadata": {},
   "outputs": [
    {
     "data": {
      "text/html": [
       "<div>\n",
       "<style scoped>\n",
       "    .dataframe tbody tr th:only-of-type {\n",
       "        vertical-align: middle;\n",
       "    }\n",
       "\n",
       "    .dataframe tbody tr th {\n",
       "        vertical-align: top;\n",
       "    }\n",
       "\n",
       "    .dataframe thead th {\n",
       "        text-align: right;\n",
       "    }\n",
       "</style>\n",
       "<table border=\"1\" class=\"dataframe\">\n",
       "  <thead>\n",
       "    <tr style=\"text-align: right;\">\n",
       "      <th></th>\n",
       "      <th>ip</th>\n",
       "      <th>app</th>\n",
       "      <th>device</th>\n",
       "      <th>os</th>\n",
       "      <th>channel</th>\n",
       "      <th>click_time</th>\n",
       "      <th>attributed_time</th>\n",
       "      <th>is_attributed</th>\n",
       "    </tr>\n",
       "  </thead>\n",
       "  <tbody>\n",
       "    <tr>\n",
       "      <th>0</th>\n",
       "      <td>39889</td>\n",
       "      <td>12</td>\n",
       "      <td>1</td>\n",
       "      <td>20</td>\n",
       "      <td>245</td>\n",
       "      <td>2017-11-06 16:01:48</td>\n",
       "      <td>NaN</td>\n",
       "      <td>0</td>\n",
       "    </tr>\n",
       "    <tr>\n",
       "      <th>1</th>\n",
       "      <td>109567</td>\n",
       "      <td>8</td>\n",
       "      <td>1</td>\n",
       "      <td>19</td>\n",
       "      <td>140</td>\n",
       "      <td>2017-11-06 16:01:48</td>\n",
       "      <td>NaN</td>\n",
       "      <td>0</td>\n",
       "    </tr>\n",
       "    <tr>\n",
       "      <th>2</th>\n",
       "      <td>99503</td>\n",
       "      <td>15</td>\n",
       "      <td>1</td>\n",
       "      <td>15</td>\n",
       "      <td>245</td>\n",
       "      <td>2017-11-06 16:01:48</td>\n",
       "      <td>NaN</td>\n",
       "      <td>0</td>\n",
       "    </tr>\n",
       "    <tr>\n",
       "      <th>3</th>\n",
       "      <td>20215</td>\n",
       "      <td>3</td>\n",
       "      <td>1</td>\n",
       "      <td>9</td>\n",
       "      <td>489</td>\n",
       "      <td>2017-11-06 16:01:48</td>\n",
       "      <td>NaN</td>\n",
       "      <td>0</td>\n",
       "    </tr>\n",
       "    <tr>\n",
       "      <th>4</th>\n",
       "      <td>79857</td>\n",
       "      <td>15</td>\n",
       "      <td>1</td>\n",
       "      <td>19</td>\n",
       "      <td>140</td>\n",
       "      <td>2017-11-06 16:01:48</td>\n",
       "      <td>NaN</td>\n",
       "      <td>0</td>\n",
       "    </tr>\n",
       "  </tbody>\n",
       "</table>\n",
       "</div>"
      ],
      "text/plain": [
       "       ip  app  device  os  channel           click_time attributed_time  \\\n",
       "0   39889   12       1  20      245  2017-11-06 16:01:48             NaN   \n",
       "1  109567    8       1  19      140  2017-11-06 16:01:48             NaN   \n",
       "2   99503   15       1  15      245  2017-11-06 16:01:48             NaN   \n",
       "3   20215    3       1   9      489  2017-11-06 16:01:48             NaN   \n",
       "4   79857   15       1  19      140  2017-11-06 16:01:48             NaN   \n",
       "\n",
       "   is_attributed  \n",
       "0              0  \n",
       "1              0  \n",
       "2              0  \n",
       "3              0  \n",
       "4              0  "
      ]
     },
     "execution_count": 5,
     "metadata": {},
     "output_type": "execute_result"
    }
   ],
   "source": [
    "dfTest.head()"
   ]
  },
  {
   "cell_type": "code",
   "execution_count": 6,
   "metadata": {},
   "outputs": [
    {
     "data": {
      "text/html": [
       "<div>\n",
       "<style scoped>\n",
       "    .dataframe tbody tr th:only-of-type {\n",
       "        vertical-align: middle;\n",
       "    }\n",
       "\n",
       "    .dataframe tbody tr th {\n",
       "        vertical-align: top;\n",
       "    }\n",
       "\n",
       "    .dataframe thead th {\n",
       "        text-align: right;\n",
       "    }\n",
       "</style>\n",
       "<table border=\"1\" class=\"dataframe\">\n",
       "  <thead>\n",
       "    <tr style=\"text-align: right;\">\n",
       "      <th></th>\n",
       "      <th>ip</th>\n",
       "      <th>app</th>\n",
       "      <th>device</th>\n",
       "      <th>os</th>\n",
       "      <th>channel</th>\n",
       "      <th>click_time</th>\n",
       "      <th>attributed_time</th>\n",
       "      <th>is_attributed</th>\n",
       "    </tr>\n",
       "  </thead>\n",
       "  <tbody>\n",
       "    <tr>\n",
       "      <th>0</th>\n",
       "      <td>83230</td>\n",
       "      <td>3</td>\n",
       "      <td>1</td>\n",
       "      <td>13</td>\n",
       "      <td>379</td>\n",
       "      <td>2017-11-06 14:32:21</td>\n",
       "      <td>NaN</td>\n",
       "      <td>0</td>\n",
       "    </tr>\n",
       "    <tr>\n",
       "      <th>1</th>\n",
       "      <td>17357</td>\n",
       "      <td>3</td>\n",
       "      <td>1</td>\n",
       "      <td>19</td>\n",
       "      <td>379</td>\n",
       "      <td>2017-11-06 14:33:34</td>\n",
       "      <td>NaN</td>\n",
       "      <td>0</td>\n",
       "    </tr>\n",
       "    <tr>\n",
       "      <th>2</th>\n",
       "      <td>35810</td>\n",
       "      <td>3</td>\n",
       "      <td>1</td>\n",
       "      <td>13</td>\n",
       "      <td>379</td>\n",
       "      <td>2017-11-06 14:34:12</td>\n",
       "      <td>NaN</td>\n",
       "      <td>0</td>\n",
       "    </tr>\n",
       "    <tr>\n",
       "      <th>3</th>\n",
       "      <td>45745</td>\n",
       "      <td>14</td>\n",
       "      <td>1</td>\n",
       "      <td>13</td>\n",
       "      <td>478</td>\n",
       "      <td>2017-11-06 14:34:52</td>\n",
       "      <td>NaN</td>\n",
       "      <td>0</td>\n",
       "    </tr>\n",
       "    <tr>\n",
       "      <th>4</th>\n",
       "      <td>161007</td>\n",
       "      <td>3</td>\n",
       "      <td>1</td>\n",
       "      <td>13</td>\n",
       "      <td>379</td>\n",
       "      <td>2017-11-06 14:35:08</td>\n",
       "      <td>NaN</td>\n",
       "      <td>0</td>\n",
       "    </tr>\n",
       "  </tbody>\n",
       "</table>\n",
       "</div>"
      ],
      "text/plain": [
       "       ip  app  device  os  channel           click_time attributed_time  \\\n",
       "0   83230    3       1  13      379  2017-11-06 14:32:21             NaN   \n",
       "1   17357    3       1  19      379  2017-11-06 14:33:34             NaN   \n",
       "2   35810    3       1  13      379  2017-11-06 14:34:12             NaN   \n",
       "3   45745   14       1  13      478  2017-11-06 14:34:52             NaN   \n",
       "4  161007    3       1  13      379  2017-11-06 14:35:08             NaN   \n",
       "\n",
       "   is_attributed  \n",
       "0              0  \n",
       "1              0  \n",
       "2              0  \n",
       "3              0  \n",
       "4              0  "
      ]
     },
     "execution_count": 6,
     "metadata": {},
     "output_type": "execute_result"
    }
   ],
   "source": [
    "dfTrain.head()"
   ]
  },
  {
   "cell_type": "code",
   "execution_count": 7,
   "metadata": {},
   "outputs": [],
   "source": [
    "def cleaning_transforming(dataframe):\n",
    "    #this column is completely blank\n",
    "    del dataframe['attributed_time']\n",
    "    # Create new features out of time. Year and month are skipped as the data is only for 4 days\n",
    "    dataframe['click_time'] =  dd.to_datetime(dataframe['click_time'])\n",
    "\n",
    "    # the given data is of 4 days. So useful data is day and hours\n",
    "    dataframe['day'] = dataframe['click_time'].dt.day\n",
    "    dataframe['hour'] = dataframe['click_time'].dt.hour\n",
    "    del dataframe['click_time']\n",
    "\n",
    "    dataframe.columns = ['ip', 'app', 'device', 'os','channel','is_attributed','day','hour']\n",
    "\n",
    "    print(\"dataset columns\",dataframe.columns)\n",
    "\n",
    "    dataframe.astype(dtyp)\n",
    "    print(\"\\n\\n=============================================================\")\n",
    "    print(dataframe.info())\n",
    "    return dataframe\n",
    "\n",
    "\n",
    "def check_true_positive_ratio(data):\n",
    "    nrows = len(data)\n",
    "    print(\"Number of rows in the dataframe: \", nrows)\n",
    "    npositive = data.is_attributed.sum() #since is_attributed has either 0 or 1. 1 is for positive cases\n",
    "    print(\"Number of positive cases are \" + str(npositive))\n",
    "    nnegative = nrows - npositive\n",
    "    positive_ratio = np.longdouble(npositive/nrows)\n",
    "    print(\"Positive data ratio is \", positive_ratio*100, \"%\")\n",
    "\n",
    "\n",
    "\n",
    "def positive_set(dataframe):\n",
    "    #nRows = len(dataframe)\n",
    "    #nPos = dataframe.is_attributed.sum()\n",
    "    #nNeg = nRows - nPos\n",
    "    #r = np.longdouble(nPos/nRows)\n",
    "    posEx = dataframe [ (dataframe['is_attributed'] == 1) ]\n",
    "    #print(\"Number of positive data is \" + str(len(posEx)) + \" rows\")\n",
    "    return posEx\n",
    "\n",
    "\n",
    "def downsampling(dataframe, posDataframe):\n",
    "    nRows = len(dataframe)\n",
    "    nPos = len(posDataframe)\n",
    "    nNeg = nRows - nPos\n",
    "    r = np.longdouble(nPos/nRows)\n",
    "    #randomly shuffle the dataframe and pick negative rows with shuffling and replacement\n",
    "    random_int = random.randint(1,50)\n",
    "    random_state = np.random.RandomState(random_int)\n",
    "    sampledNegEx =  dataframe [ (dataframe['is_attributed'] == 0) ].sample(frac=r,random_state=random_state)\n",
    "    newTrainsubs = [posDataframe, sampledNegEx]\n",
    "    dfTrainBal = pd.concat(newTrainsubs)\n",
    "    newRows = len(dfTrainBal)\n",
    "    newPos = dfTrainBal.is_attributed.sum()\n",
    "    newNeg = nRows - nPos\n",
    "    rr = np.longdouble(newPos/newRows)\n",
    "    return dfTrainBal\n",
    "\n",
    "\n",
    "def create_chunks(dataframe):\n",
    "    print(\"Creating 10 chunks\")\n",
    "    #get only positive data\n",
    "    pos_set = positive_set(dataframe)\n",
    "    #downsample the data to get balanced chunk\n",
    "    balanced_chunks = []\n",
    "    for i in range(10):\n",
    "        balanced_chunks.append(downsampling(dataframe, pos_set))\n",
    "    \n",
    "    return balanced_chunks\n",
    "\n",
    "\n",
    "def draw_roc(clf, chunk):\n",
    "    #building data for crossvalidation\n",
    "    random_int = random.randint(1,10)\n",
    "    random_state = np.random.RandomState(random_int)\n",
    "    split_size = 0.3\n",
    "    dTrain, dCV = model_tts(chunk, test_size=split_size, random_state=random_state, shuffle=True )\n",
    "    #Get X and y\n",
    "    yTrain = dTrain['is_attributed']\n",
    "    xTrain = dTrain.drop('is_attributed',axis=1)\n",
    "    yCV = dCV['is_attributed']\n",
    "    xCV = dCV.drop('is_attributed',axis=1)\n",
    "    tprs = []\n",
    "    aucs = []\n",
    "    result_dict = {}\n",
    "    \n",
    "    mean_fpr = np.linspace(0, 1, 100)\n",
    "    model = clf.fit(xTrain, yTrain)\n",
    "    probas_ = model.predict_proba(xCV)\n",
    "    fpr, tpr, thresholds = roc_curve(yCV, probas_[:, 1])\n",
    "    \n",
    "    tprs.append(interp(mean_fpr, fpr, tpr))\n",
    "    tprs[-1][0] = 0.0\n",
    "    roc_auc = auc(fpr, tpr)\n",
    "    aucs.append(roc_auc)\n",
    "    #plt.plot(fpr, tpr, lw=1, alpha=0.3, label='ROC fold %d (AUC = %0.2f)' % (0, roc_auc))\n",
    "    result_dict[\"model\"] = model\n",
    "    result_dict[\"fpr\"] = fpr\n",
    "    result_dict[\"tpr\"] = tpr\n",
    "    result_dict[\"lw\"] = 1\n",
    "    result_dict[\"alpha\"] = 0.3\n",
    "    result_dict[\"roc_fold\"] = 0\n",
    "    result_dict[\"roc_auc\"] = roc_auc\n",
    "    #print(str(clf), str(roc_auc))\n",
    "    return result_dict\n",
    "\n",
    "\n",
    "def get_roc_test(model, test_data):\n",
    "    yTest = test_data['is_attributed']\n",
    "    xTest = test_data.drop('is_attributed',axis=1)\n",
    "    tprs = []\n",
    "    aucs = []\n",
    "    result_dict = {}\n",
    "    mean_fpr = np.linspace(0, 1, 100)\n",
    "    probas_ = model.predict_proba(xTest)\n",
    "    fpr, tpr, thresholds = roc_curve(yTest, probas_[:, 1])\n",
    "    tprs.append(interp(mean_fpr, fpr, tpr))\n",
    "    tprs[-1][0] = 0.0\n",
    "    roc_auc = auc(fpr, tpr)\n",
    "    aucs.append(roc_auc)\n",
    "    #plt.plot(fpr, tpr, lw=1, alpha=0.3, label='ROC fold %d (AUC = %0.2f)' % (0, roc_auc))\n",
    "    result_dict[\"model\"] = clf\n",
    "    result_dict[\"fpr\"] = fpr\n",
    "    result_dict[\"tpr\"] = tpr\n",
    "    result_dict[\"lw\"] = 1\n",
    "    result_dict[\"alpha\"] = 0.3\n",
    "    result_dict[\"roc_fold\"] = 0\n",
    "    result_dict[\"roc_auc\"] = roc_auc\n",
    "    #print(str(clf), str(roc_auc))\n",
    "    return result_dict\n",
    "\n",
    "def display_accuracy(model, test_data):\n",
    "    yTest = test_data['is_attributed']\n",
    "    xTest = test_data.drop('is_attributed',axis=1)\n",
    "    y_pred = model.predict(xTest)\n",
    "    print(\"Model's on test set: {:.2f}\".format(model.score(xTest, yTest)))\n",
    "\n",
    "def display_confusion_matrix(model, test_data):\n",
    "    yTest = test_data['is_attributed']\n",
    "    xTest = test_data.drop('is_attributed',axis=1)\n",
    "    y_pred = model.predict(xTest)\n",
    "    confusion_matrx = confusion_matrix(yTest, y_pred)\n",
    "    print(confusion_matrx)\n",
    "    return confusion_matrx\n",
    "\n",
    "def display_classification_report(model, test_data):\n",
    "    yTest = test_data['is_attributed']\n",
    "    xTest = test_data.drop('is_attributed',axis=1)\n",
    "    y_pred = model.predict(xTest)\n",
    "    print(classification_report(yTest, y_pred))\n",
    "\n"
   ]
  },
  {
   "cell_type": "code",
   "execution_count": 8,
   "metadata": {},
   "outputs": [
    {
     "name": "stdout",
     "output_type": "stream",
     "text": [
      "dataset columns Index(['ip', 'app', 'device', 'os', 'channel', 'is_attributed', 'day', 'hour'], dtype='object')\n",
      "\n",
      "\n",
      "=============================================================\n",
      "<class 'pandas.core.frame.DataFrame'>\n",
      "RangeIndex: 100000 entries, 0 to 99999\n",
      "Data columns (total 8 columns):\n",
      "ip               100000 non-null int64\n",
      "app              100000 non-null int64\n",
      "device           100000 non-null int64\n",
      "os               100000 non-null int64\n",
      "channel          100000 non-null int64\n",
      "is_attributed    100000 non-null int64\n",
      "day              100000 non-null int64\n",
      "hour             100000 non-null int64\n",
      "dtypes: int64(8)\n",
      "memory usage: 6.1 MB\n",
      "None\n",
      "dataset columns Index(['ip', 'app', 'device', 'os', 'channel', 'is_attributed', 'day', 'hour'], dtype='object')\n",
      "\n",
      "\n",
      "=============================================================\n",
      "<class 'pandas.core.frame.DataFrame'>\n",
      "RangeIndex: 100000 entries, 0 to 99999\n",
      "Data columns (total 8 columns):\n",
      "ip               100000 non-null int64\n",
      "app              100000 non-null int64\n",
      "device           100000 non-null int64\n",
      "os               100000 non-null int64\n",
      "channel          100000 non-null int64\n",
      "is_attributed    100000 non-null int64\n",
      "day              100000 non-null int64\n",
      "hour             100000 non-null int64\n",
      "dtypes: int64(8)\n",
      "memory usage: 6.1 MB\n",
      "None\n",
      "Number of rows in the dataframe:  100000\n",
      "Number of positive cases are 169\n",
      "Positive data ratio is  0.169 %\n",
      "Number of rows in the dataframe:  100000\n",
      "Number of positive cases are 179\n",
      "Positive data ratio is  0.179 %\n",
      "Creating 10 chunks\n",
      "Checking positive ratio in each chunk now\n",
      "Number of rows in the dataframe:  338\n",
      "Number of positive cases are 169\n",
      "Positive data ratio is  50.0 %\n",
      "===============================\n",
      "Number of rows in the dataframe:  338\n",
      "Number of positive cases are 169\n",
      "Positive data ratio is  50.0 %\n",
      "===============================\n",
      "Number of rows in the dataframe:  338\n",
      "Number of positive cases are 169\n",
      "Positive data ratio is  50.0 %\n",
      "===============================\n",
      "Number of rows in the dataframe:  338\n",
      "Number of positive cases are 169\n",
      "Positive data ratio is  50.0 %\n",
      "===============================\n",
      "Number of rows in the dataframe:  338\n",
      "Number of positive cases are 169\n",
      "Positive data ratio is  50.0 %\n",
      "===============================\n",
      "Number of rows in the dataframe:  338\n",
      "Number of positive cases are 169\n",
      "Positive data ratio is  50.0 %\n",
      "===============================\n",
      "Number of rows in the dataframe:  338\n",
      "Number of positive cases are 169\n",
      "Positive data ratio is  50.0 %\n",
      "===============================\n",
      "Number of rows in the dataframe:  338\n",
      "Number of positive cases are 169\n",
      "Positive data ratio is  50.0 %\n",
      "===============================\n",
      "Number of rows in the dataframe:  338\n",
      "Number of positive cases are 169\n",
      "Positive data ratio is  50.0 %\n",
      "===============================\n",
      "Number of rows in the dataframe:  338\n",
      "Number of positive cases are 169\n",
      "Positive data ratio is  50.0 %\n",
      "===============================\n"
     ]
    }
   ],
   "source": [
    "dfTrain = cleaning_transforming(dfTrain)\n",
    "dfTest = cleaning_transforming(dfTest)\n",
    "\n",
    "#checking true positive ratio in train data\n",
    "check_true_positive_ratio(dfTrain)\n",
    "\n",
    "# #checking true positive ratio in test data\n",
    "check_true_positive_ratio(dfTest)\n",
    "\n",
    "dfTrainBal = create_chunks(dfTrain)\n",
    "\n",
    "print(\"Checking positive ratio in each chunk now\")\n",
    "for chunk in dfTrainBal:\n",
    "    check_true_positive_ratio(chunk)\n",
    "    print(\"===============================\")"
   ]
  },
  {
   "cell_type": "code",
   "execution_count": 9,
   "metadata": {},
   "outputs": [
    {
     "data": {
      "text/html": [
       "<div>\n",
       "<style scoped>\n",
       "    .dataframe tbody tr th:only-of-type {\n",
       "        vertical-align: middle;\n",
       "    }\n",
       "\n",
       "    .dataframe tbody tr th {\n",
       "        vertical-align: top;\n",
       "    }\n",
       "\n",
       "    .dataframe thead th {\n",
       "        text-align: right;\n",
       "    }\n",
       "</style>\n",
       "<table border=\"1\" class=\"dataframe\">\n",
       "  <thead>\n",
       "    <tr style=\"text-align: right;\">\n",
       "      <th></th>\n",
       "      <th>ip</th>\n",
       "      <th>app</th>\n",
       "      <th>device</th>\n",
       "      <th>os</th>\n",
       "      <th>channel</th>\n",
       "      <th>is_attributed</th>\n",
       "      <th>day</th>\n",
       "      <th>hour</th>\n",
       "    </tr>\n",
       "  </thead>\n",
       "  <tbody>\n",
       "    <tr>\n",
       "      <th>9620</th>\n",
       "      <td>43809</td>\n",
       "      <td>3</td>\n",
       "      <td>1</td>\n",
       "      <td>19</td>\n",
       "      <td>137</td>\n",
       "      <td>0</td>\n",
       "      <td>6</td>\n",
       "      <td>16</td>\n",
       "    </tr>\n",
       "    <tr>\n",
       "      <th>11334</th>\n",
       "      <td>91820</td>\n",
       "      <td>3</td>\n",
       "      <td>1</td>\n",
       "      <td>23</td>\n",
       "      <td>280</td>\n",
       "      <td>0</td>\n",
       "      <td>6</td>\n",
       "      <td>16</td>\n",
       "    </tr>\n",
       "    <tr>\n",
       "      <th>84933</th>\n",
       "      <td>122411</td>\n",
       "      <td>9</td>\n",
       "      <td>1</td>\n",
       "      <td>37</td>\n",
       "      <td>215</td>\n",
       "      <td>0</td>\n",
       "      <td>6</td>\n",
       "      <td>16</td>\n",
       "    </tr>\n",
       "    <tr>\n",
       "      <th>53920</th>\n",
       "      <td>2180</td>\n",
       "      <td>15</td>\n",
       "      <td>1</td>\n",
       "      <td>8</td>\n",
       "      <td>386</td>\n",
       "      <td>0</td>\n",
       "      <td>6</td>\n",
       "      <td>16</td>\n",
       "    </tr>\n",
       "    <tr>\n",
       "      <th>9903</th>\n",
       "      <td>73487</td>\n",
       "      <td>12</td>\n",
       "      <td>1</td>\n",
       "      <td>13</td>\n",
       "      <td>205</td>\n",
       "      <td>0</td>\n",
       "      <td>6</td>\n",
       "      <td>16</td>\n",
       "    </tr>\n",
       "  </tbody>\n",
       "</table>\n",
       "</div>"
      ],
      "text/plain": [
       "           ip  app  device  os  channel  is_attributed  day  hour\n",
       "9620    43809    3       1  19      137              0    6    16\n",
       "11334   91820    3       1  23      280              0    6    16\n",
       "84933  122411    9       1  37      215              0    6    16\n",
       "53920    2180   15       1   8      386              0    6    16\n",
       "9903    73487   12       1  13      205              0    6    16"
      ]
     },
     "execution_count": 9,
     "metadata": {},
     "output_type": "execute_result"
    }
   ],
   "source": [
    "dfTrainBal[0] [ (dfTrainBal[0]['is_attributed'] == 0) ].head()"
   ]
  },
  {
   "cell_type": "code",
   "execution_count": 10,
   "metadata": {},
   "outputs": [
    {
     "data": {
      "text/html": [
       "<div>\n",
       "<style scoped>\n",
       "    .dataframe tbody tr th:only-of-type {\n",
       "        vertical-align: middle;\n",
       "    }\n",
       "\n",
       "    .dataframe tbody tr th {\n",
       "        vertical-align: top;\n",
       "    }\n",
       "\n",
       "    .dataframe thead th {\n",
       "        text-align: right;\n",
       "    }\n",
       "</style>\n",
       "<table border=\"1\" class=\"dataframe\">\n",
       "  <thead>\n",
       "    <tr style=\"text-align: right;\">\n",
       "      <th></th>\n",
       "      <th>ip</th>\n",
       "      <th>app</th>\n",
       "      <th>device</th>\n",
       "      <th>os</th>\n",
       "      <th>channel</th>\n",
       "      <th>is_attributed</th>\n",
       "      <th>day</th>\n",
       "      <th>hour</th>\n",
       "    </tr>\n",
       "  </thead>\n",
       "  <tbody>\n",
       "    <tr>\n",
       "      <th>95233</th>\n",
       "      <td>30781</td>\n",
       "      <td>6</td>\n",
       "      <td>1</td>\n",
       "      <td>19</td>\n",
       "      <td>125</td>\n",
       "      <td>0</td>\n",
       "      <td>6</td>\n",
       "      <td>16</td>\n",
       "    </tr>\n",
       "    <tr>\n",
       "      <th>95851</th>\n",
       "      <td>32558</td>\n",
       "      <td>8</td>\n",
       "      <td>1</td>\n",
       "      <td>10</td>\n",
       "      <td>145</td>\n",
       "      <td>0</td>\n",
       "      <td>6</td>\n",
       "      <td>16</td>\n",
       "    </tr>\n",
       "    <tr>\n",
       "      <th>3801</th>\n",
       "      <td>93668</td>\n",
       "      <td>23</td>\n",
       "      <td>1</td>\n",
       "      <td>10</td>\n",
       "      <td>153</td>\n",
       "      <td>0</td>\n",
       "      <td>6</td>\n",
       "      <td>16</td>\n",
       "    </tr>\n",
       "    <tr>\n",
       "      <th>72222</th>\n",
       "      <td>94117</td>\n",
       "      <td>12</td>\n",
       "      <td>1</td>\n",
       "      <td>13</td>\n",
       "      <td>140</td>\n",
       "      <td>0</td>\n",
       "      <td>6</td>\n",
       "      <td>16</td>\n",
       "    </tr>\n",
       "    <tr>\n",
       "      <th>3408</th>\n",
       "      <td>115804</td>\n",
       "      <td>3</td>\n",
       "      <td>1</td>\n",
       "      <td>19</td>\n",
       "      <td>280</td>\n",
       "      <td>0</td>\n",
       "      <td>6</td>\n",
       "      <td>16</td>\n",
       "    </tr>\n",
       "  </tbody>\n",
       "</table>\n",
       "</div>"
      ],
      "text/plain": [
       "           ip  app  device  os  channel  is_attributed  day  hour\n",
       "95233   30781    6       1  19      125              0    6    16\n",
       "95851   32558    8       1  10      145              0    6    16\n",
       "3801    93668   23       1  10      153              0    6    16\n",
       "72222   94117   12       1  13      140              0    6    16\n",
       "3408   115804    3       1  19      280              0    6    16"
      ]
     },
     "execution_count": 10,
     "metadata": {},
     "output_type": "execute_result"
    }
   ],
   "source": [
    "dfTrainBal[1] [ (dfTrainBal[1]['is_attributed'] == 0) ].head()\n"
   ]
  },
  {
   "cell_type": "code",
   "execution_count": 11,
   "metadata": {},
   "outputs": [
    {
     "data": {
      "text/html": [
       "<div>\n",
       "<style scoped>\n",
       "    .dataframe tbody tr th:only-of-type {\n",
       "        vertical-align: middle;\n",
       "    }\n",
       "\n",
       "    .dataframe tbody tr th {\n",
       "        vertical-align: top;\n",
       "    }\n",
       "\n",
       "    .dataframe thead th {\n",
       "        text-align: right;\n",
       "    }\n",
       "</style>\n",
       "<table border=\"1\" class=\"dataframe\">\n",
       "  <thead>\n",
       "    <tr style=\"text-align: right;\">\n",
       "      <th></th>\n",
       "      <th>ip</th>\n",
       "      <th>app</th>\n",
       "      <th>device</th>\n",
       "      <th>os</th>\n",
       "      <th>channel</th>\n",
       "      <th>is_attributed</th>\n",
       "      <th>day</th>\n",
       "      <th>hour</th>\n",
       "    </tr>\n",
       "  </thead>\n",
       "  <tbody>\n",
       "    <tr>\n",
       "      <th>58192</th>\n",
       "      <td>93549</td>\n",
       "      <td>3</td>\n",
       "      <td>1</td>\n",
       "      <td>18</td>\n",
       "      <td>480</td>\n",
       "      <td>0</td>\n",
       "      <td>6</td>\n",
       "      <td>16</td>\n",
       "    </tr>\n",
       "    <tr>\n",
       "      <th>48507</th>\n",
       "      <td>23419</td>\n",
       "      <td>9</td>\n",
       "      <td>1</td>\n",
       "      <td>32</td>\n",
       "      <td>215</td>\n",
       "      <td>0</td>\n",
       "      <td>6</td>\n",
       "      <td>16</td>\n",
       "    </tr>\n",
       "    <tr>\n",
       "      <th>25581</th>\n",
       "      <td>69770</td>\n",
       "      <td>1</td>\n",
       "      <td>1</td>\n",
       "      <td>13</td>\n",
       "      <td>134</td>\n",
       "      <td>0</td>\n",
       "      <td>6</td>\n",
       "      <td>16</td>\n",
       "    </tr>\n",
       "    <tr>\n",
       "      <th>96902</th>\n",
       "      <td>15932</td>\n",
       "      <td>12</td>\n",
       "      <td>1</td>\n",
       "      <td>13</td>\n",
       "      <td>245</td>\n",
       "      <td>0</td>\n",
       "      <td>6</td>\n",
       "      <td>16</td>\n",
       "    </tr>\n",
       "    <tr>\n",
       "      <th>97579</th>\n",
       "      <td>60258</td>\n",
       "      <td>8</td>\n",
       "      <td>1</td>\n",
       "      <td>17</td>\n",
       "      <td>145</td>\n",
       "      <td>0</td>\n",
       "      <td>6</td>\n",
       "      <td>16</td>\n",
       "    </tr>\n",
       "  </tbody>\n",
       "</table>\n",
       "</div>"
      ],
      "text/plain": [
       "          ip  app  device  os  channel  is_attributed  day  hour\n",
       "58192  93549    3       1  18      480              0    6    16\n",
       "48507  23419    9       1  32      215              0    6    16\n",
       "25581  69770    1       1  13      134              0    6    16\n",
       "96902  15932   12       1  13      245              0    6    16\n",
       "97579  60258    8       1  17      145              0    6    16"
      ]
     },
     "execution_count": 11,
     "metadata": {},
     "output_type": "execute_result"
    }
   ],
   "source": [
    "dfTrainBal[2] [ (dfTrainBal[2]['is_attributed'] == 0) ].head()\n"
   ]
  },
  {
   "cell_type": "code",
   "execution_count": 12,
   "metadata": {},
   "outputs": [
    {
     "data": {
      "text/html": [
       "<div>\n",
       "<style scoped>\n",
       "    .dataframe tbody tr th:only-of-type {\n",
       "        vertical-align: middle;\n",
       "    }\n",
       "\n",
       "    .dataframe tbody tr th {\n",
       "        vertical-align: top;\n",
       "    }\n",
       "\n",
       "    .dataframe thead th {\n",
       "        text-align: right;\n",
       "    }\n",
       "</style>\n",
       "<table border=\"1\" class=\"dataframe\">\n",
       "  <thead>\n",
       "    <tr style=\"text-align: right;\">\n",
       "      <th></th>\n",
       "      <th>ip</th>\n",
       "      <th>app</th>\n",
       "      <th>device</th>\n",
       "      <th>os</th>\n",
       "      <th>channel</th>\n",
       "      <th>is_attributed</th>\n",
       "      <th>day</th>\n",
       "      <th>hour</th>\n",
       "    </tr>\n",
       "  </thead>\n",
       "  <tbody>\n",
       "    <tr>\n",
       "      <th>14351</th>\n",
       "      <td>171503</td>\n",
       "      <td>3</td>\n",
       "      <td>1</td>\n",
       "      <td>13</td>\n",
       "      <td>442</td>\n",
       "      <td>0</td>\n",
       "      <td>6</td>\n",
       "      <td>16</td>\n",
       "    </tr>\n",
       "    <tr>\n",
       "      <th>47099</th>\n",
       "      <td>66077</td>\n",
       "      <td>3</td>\n",
       "      <td>1</td>\n",
       "      <td>13</td>\n",
       "      <td>280</td>\n",
       "      <td>0</td>\n",
       "      <td>6</td>\n",
       "      <td>16</td>\n",
       "    </tr>\n",
       "    <tr>\n",
       "      <th>83391</th>\n",
       "      <td>95196</td>\n",
       "      <td>15</td>\n",
       "      <td>1</td>\n",
       "      <td>15</td>\n",
       "      <td>245</td>\n",
       "      <td>0</td>\n",
       "      <td>6</td>\n",
       "      <td>16</td>\n",
       "    </tr>\n",
       "    <tr>\n",
       "      <th>39645</th>\n",
       "      <td>73487</td>\n",
       "      <td>15</td>\n",
       "      <td>1</td>\n",
       "      <td>13</td>\n",
       "      <td>140</td>\n",
       "      <td>0</td>\n",
       "      <td>6</td>\n",
       "      <td>16</td>\n",
       "    </tr>\n",
       "    <tr>\n",
       "      <th>91403</th>\n",
       "      <td>16993</td>\n",
       "      <td>9</td>\n",
       "      <td>1</td>\n",
       "      <td>18</td>\n",
       "      <td>442</td>\n",
       "      <td>0</td>\n",
       "      <td>6</td>\n",
       "      <td>16</td>\n",
       "    </tr>\n",
       "  </tbody>\n",
       "</table>\n",
       "</div>"
      ],
      "text/plain": [
       "           ip  app  device  os  channel  is_attributed  day  hour\n",
       "14351  171503    3       1  13      442              0    6    16\n",
       "47099   66077    3       1  13      280              0    6    16\n",
       "83391   95196   15       1  15      245              0    6    16\n",
       "39645   73487   15       1  13      140              0    6    16\n",
       "91403   16993    9       1  18      442              0    6    16"
      ]
     },
     "execution_count": 12,
     "metadata": {},
     "output_type": "execute_result"
    }
   ],
   "source": [
    "dfTrainBal[3] [ (dfTrainBal[3]['is_attributed'] == 0) ].head()"
   ]
  },
  {
   "cell_type": "code",
   "execution_count": 13,
   "metadata": {},
   "outputs": [
    {
     "name": "stdout",
     "output_type": "stream",
     "text": [
      "0.7303240740740741\n",
      "0.78222049689441\n",
      "0.749611801242236\n",
      "0.8163184864012613\n",
      "0.8057692307692308\n",
      "0.749611801242236\n",
      "0.838076923076923\n",
      "0.8161538461538461\n",
      "0.7631987577639753\n",
      "0.8673469387755102\n",
      "best auc is  0.8673469387755102\n",
      "ROC curve for validation set for logistic regression\n"
     ]
    },
    {
     "name": "stderr",
     "output_type": "stream",
     "text": [
      "C:\\ProgramData\\Anaconda3\\lib\\site-packages\\sklearn\\linear_model\\logistic.py:433: FutureWarning: Default solver will be changed to 'lbfgs' in 0.22. Specify a solver to silence this warning.\n",
      "  FutureWarning)\n",
      "C:\\ProgramData\\Anaconda3\\lib\\site-packages\\sklearn\\linear_model\\logistic.py:433: FutureWarning: Default solver will be changed to 'lbfgs' in 0.22. Specify a solver to silence this warning.\n",
      "  FutureWarning)\n",
      "C:\\ProgramData\\Anaconda3\\lib\\site-packages\\sklearn\\linear_model\\logistic.py:433: FutureWarning: Default solver will be changed to 'lbfgs' in 0.22. Specify a solver to silence this warning.\n",
      "  FutureWarning)\n",
      "C:\\ProgramData\\Anaconda3\\lib\\site-packages\\sklearn\\linear_model\\logistic.py:433: FutureWarning: Default solver will be changed to 'lbfgs' in 0.22. Specify a solver to silence this warning.\n",
      "  FutureWarning)\n",
      "C:\\ProgramData\\Anaconda3\\lib\\site-packages\\sklearn\\linear_model\\logistic.py:433: FutureWarning: Default solver will be changed to 'lbfgs' in 0.22. Specify a solver to silence this warning.\n",
      "  FutureWarning)\n",
      "C:\\ProgramData\\Anaconda3\\lib\\site-packages\\sklearn\\linear_model\\logistic.py:433: FutureWarning: Default solver will be changed to 'lbfgs' in 0.22. Specify a solver to silence this warning.\n",
      "  FutureWarning)\n",
      "C:\\ProgramData\\Anaconda3\\lib\\site-packages\\sklearn\\linear_model\\logistic.py:433: FutureWarning: Default solver will be changed to 'lbfgs' in 0.22. Specify a solver to silence this warning.\n",
      "  FutureWarning)\n",
      "C:\\ProgramData\\Anaconda3\\lib\\site-packages\\sklearn\\linear_model\\logistic.py:433: FutureWarning: Default solver will be changed to 'lbfgs' in 0.22. Specify a solver to silence this warning.\n",
      "  FutureWarning)\n",
      "C:\\ProgramData\\Anaconda3\\lib\\site-packages\\sklearn\\linear_model\\logistic.py:433: FutureWarning: Default solver will be changed to 'lbfgs' in 0.22. Specify a solver to silence this warning.\n",
      "  FutureWarning)\n",
      "C:\\ProgramData\\Anaconda3\\lib\\site-packages\\sklearn\\linear_model\\logistic.py:433: FutureWarning: Default solver will be changed to 'lbfgs' in 0.22. Specify a solver to silence this warning.\n",
      "  FutureWarning)\n"
     ]
    },
    {
     "data": {
      "text/plain": [
       "[<matplotlib.lines.Line2D at 0xcd67940>,\n",
       " <matplotlib.lines.Line2D at 0xcd67a90>]"
      ]
     },
     "execution_count": 13,
     "metadata": {},
     "output_type": "execute_result"
    },
    {
     "data": {
      "image/png": "[encoded data removed]",
      "text/plain": [
       "<Figure size 432x288 with 1 Axes>"
      ]
     },
     "metadata": {
      "needs_background": "light"
     },
     "output_type": "display_data"
    }
   ],
   "source": [
    "dTrain = pd.DataFrame()\n",
    "\n",
    "dCV = pd.DataFrame()\n",
    "\n",
    "best_model_lr = {}\n",
    "\n",
    "model_list_lr = []\n",
    "\n",
    "best_auc_lr = np.float64(0)\n",
    "\n",
    "#building model\n",
    "for chunk in dfTrainBal:\n",
    "    clfLR = LogisticRegression()\n",
    "    results_lr = draw_roc(clfLR, chunk)\n",
    "    print(results_lr[\"roc_auc\"])\n",
    "    model_list_lr.append(results_lr)\n",
    "\n",
    "\n",
    "for model in model_list_lr:\n",
    "    if(np.greater(model[\"roc_auc\"], best_auc_lr)):\n",
    "        best_auc_lr = model[\"roc_auc\"]\n",
    "        best_model_lr = model\n",
    "\n",
    "print(\"best auc is \" , best_model_lr[\"roc_auc\"])\n",
    "\n",
    "print(\"ROC curve for validation set for logistic regression\")\n",
    "plt.plot(best_model_lr[\"fpr\"], \n",
    "          best_model_lr[\"tpr\"], best_model_lr[\"lw\"], best_model_lr[\"alpha\"],\n",
    "          label='ROC fold %d (AUC = %0.2f)' % (0, best_model_lr[\"roc_auc\"]))"
   ]
  },
  {
   "cell_type": "code",
   "execution_count": 14,
   "metadata": {},
   "outputs": [
    {
     "data": {
      "text/plain": [
       "LogisticRegression(C=1.0, class_weight=None, dual=False, fit_intercept=True,\n",
       "          intercept_scaling=1, max_iter=100, multi_class='warn',\n",
       "          n_jobs=None, penalty='l2', random_state=None, solver='warn',\n",
       "          tol=0.0001, verbose=0, warm_start=False)"
      ]
     },
     "execution_count": 14,
     "metadata": {},
     "output_type": "execute_result"
    }
   ],
   "source": [
    "best_model_lr[\"model\"]"
   ]
  },
  {
   "cell_type": "code",
   "execution_count": 15,
   "metadata": {},
   "outputs": [
    {
     "ename": "NameError",
     "evalue": "name 'clf' is not defined",
     "output_type": "error",
     "traceback": [
      "\u001b[1;31m---------------------------------------------------------------------------\u001b[0m",
      "\u001b[1;31mNameError\u001b[0m                                 Traceback (most recent call last)",
      "\u001b[1;32m<ipython-input-15-9365a980b218>\u001b[0m in \u001b[0;36m<module>\u001b[1;34m\u001b[0m\n\u001b[1;32m----> 1\u001b[1;33m \u001b[0mtest_lr\u001b[0m \u001b[1;33m=\u001b[0m \u001b[0mget_roc_test\u001b[0m\u001b[1;33m(\u001b[0m\u001b[0mbest_model_lr\u001b[0m\u001b[1;33m[\u001b[0m\u001b[1;34m\"model\"\u001b[0m\u001b[1;33m]\u001b[0m\u001b[1;33m,\u001b[0m \u001b[0mdfTest\u001b[0m\u001b[1;33m)\u001b[0m\u001b[1;33m\u001b[0m\u001b[1;33m\u001b[0m\u001b[0m\n\u001b[0m\u001b[0;32m      2\u001b[0m \u001b[0mprint\u001b[0m\u001b[1;33m(\u001b[0m\u001b[1;34m\"best model's auc on test set for logistic regression is \"\u001b[0m \u001b[1;33m,\u001b[0m \u001b[0mtest_lr\u001b[0m\u001b[1;33m[\u001b[0m\u001b[1;34m\"roc_auc\"\u001b[0m\u001b[1;33m]\u001b[0m\u001b[1;33m)\u001b[0m\u001b[1;33m\u001b[0m\u001b[1;33m\u001b[0m\u001b[0m\n\u001b[0;32m      3\u001b[0m \u001b[0mprint\u001b[0m\u001b[1;33m(\u001b[0m\u001b[1;34m\"ROC curve for test set for logistic regression\"\u001b[0m\u001b[1;33m)\u001b[0m\u001b[1;33m\u001b[0m\u001b[1;33m\u001b[0m\u001b[0m\n\u001b[0;32m      4\u001b[0m plt.plot(test_lr[\"fpr\"], \n\u001b[0;32m      5\u001b[0m           \u001b[0mtest_lr\u001b[0m\u001b[1;33m[\u001b[0m\u001b[1;34m\"tpr\"\u001b[0m\u001b[1;33m]\u001b[0m\u001b[1;33m,\u001b[0m \u001b[0mtest_lr\u001b[0m\u001b[1;33m[\u001b[0m\u001b[1;34m\"lw\"\u001b[0m\u001b[1;33m]\u001b[0m\u001b[1;33m,\u001b[0m \u001b[0mtest_lr\u001b[0m\u001b[1;33m[\u001b[0m\u001b[1;34m\"alpha\"\u001b[0m\u001b[1;33m]\u001b[0m\u001b[1;33m,\u001b[0m\u001b[1;33m\u001b[0m\u001b[1;33m\u001b[0m\u001b[0m\n",
      "\u001b[1;32m<ipython-input-7-b4cf02675e6a>\u001b[0m in \u001b[0;36mget_roc_test\u001b[1;34m(model, test_data)\u001b[0m\n\u001b[0;32m    139\u001b[0m     \u001b[0maucs\u001b[0m\u001b[1;33m.\u001b[0m\u001b[0mappend\u001b[0m\u001b[1;33m(\u001b[0m\u001b[0mroc_auc\u001b[0m\u001b[1;33m)\u001b[0m\u001b[1;33m\u001b[0m\u001b[1;33m\u001b[0m\u001b[0m\n\u001b[0;32m    140\u001b[0m     \u001b[1;31m#plt.plot(fpr, tpr, lw=1, alpha=0.3, label='ROC fold %d (AUC = %0.2f)' % (0, roc_auc))\u001b[0m\u001b[1;33m\u001b[0m\u001b[1;33m\u001b[0m\u001b[1;33m\u001b[0m\u001b[0m\n\u001b[1;32m--> 141\u001b[1;33m     \u001b[0mresult_dict\u001b[0m\u001b[1;33m[\u001b[0m\u001b[1;34m\"model\"\u001b[0m\u001b[1;33m]\u001b[0m \u001b[1;33m=\u001b[0m \u001b[0mclf\u001b[0m\u001b[1;33m\u001b[0m\u001b[1;33m\u001b[0m\u001b[0m\n\u001b[0m\u001b[0;32m    142\u001b[0m     \u001b[0mresult_dict\u001b[0m\u001b[1;33m[\u001b[0m\u001b[1;34m\"fpr\"\u001b[0m\u001b[1;33m]\u001b[0m \u001b[1;33m=\u001b[0m \u001b[0mfpr\u001b[0m\u001b[1;33m\u001b[0m\u001b[1;33m\u001b[0m\u001b[0m\n\u001b[0;32m    143\u001b[0m     \u001b[0mresult_dict\u001b[0m\u001b[1;33m[\u001b[0m\u001b[1;34m\"tpr\"\u001b[0m\u001b[1;33m]\u001b[0m \u001b[1;33m=\u001b[0m \u001b[0mtpr\u001b[0m\u001b[1;33m\u001b[0m\u001b[1;33m\u001b[0m\u001b[0m\n",
      "\u001b[1;31mNameError\u001b[0m: name 'clf' is not defined"
     ]
    }
   ],
   "source": [
    "test_lr = get_roc_test(best_model_lr[\"model\"], dfTest)\n",
    "print(\"best model's auc on test set for logistic regression is \" , test_lr[\"roc_auc\"])\n",
    "print(\"ROC curve for test set for logistic regression\")\n",
    "plt.plot(test_lr[\"fpr\"], \n",
    "          test_lr[\"tpr\"], test_lr[\"lw\"], test_lr[\"alpha\"],\n",
    "          label='ROC fold %d (AUC = %0.2f)' % (0, test_lr[\"roc_auc\"]))\n",
    "plt.plot([0, 1], [0, 1],'r--')\n",
    "plt.xlim([0.0, 1.0])\n",
    "plt.ylim([0.0, 1.05])\n",
    "plt.xlabel('False Positive Rate')\n",
    "plt.ylabel('True Positive Rate')\n",
    "plt.title('Receiver operating characteristic')\n",
    "plt.legend(loc=\"lower right\")\n",
    "plt.savefig('Log_ROC')\n",
    "plt.show()\n",
    "\n",
    "\n",
    "\n"
   ]
  },
  {
   "cell_type": "code",
   "execution_count": 16,
   "metadata": {},
   "outputs": [
    {
     "name": "stdout",
     "output_type": "stream",
     "text": [
      "Number of rows in the dataframe:  100000\n",
      "Number of positive cases are 179\n",
      "Positive data ratio is  0.179 %\n"
     ]
    },
    {
     "ename": "KeyError",
     "evalue": "'attributed_time'",
     "output_type": "error",
     "traceback": [
      "\u001b[1;31m---------------------------------------------------------------------------\u001b[0m",
      "\u001b[1;31mKeyError\u001b[0m                                  Traceback (most recent call last)",
      "\u001b[1;32mC:\\ProgramData\\Anaconda3\\lib\\site-packages\\pandas\\core\\indexes\\base.py\u001b[0m in \u001b[0;36mget_loc\u001b[1;34m(self, key, method, tolerance)\u001b[0m\n\u001b[0;32m   2656\u001b[0m             \u001b[1;32mtry\u001b[0m\u001b[1;33m:\u001b[0m\u001b[1;33m\u001b[0m\u001b[1;33m\u001b[0m\u001b[0m\n\u001b[1;32m-> 2657\u001b[1;33m                 \u001b[1;32mreturn\u001b[0m \u001b[0mself\u001b[0m\u001b[1;33m.\u001b[0m\u001b[0m_engine\u001b[0m\u001b[1;33m.\u001b[0m\u001b[0mget_loc\u001b[0m\u001b[1;33m(\u001b[0m\u001b[0mkey\u001b[0m\u001b[1;33m)\u001b[0m\u001b[1;33m\u001b[0m\u001b[1;33m\u001b[0m\u001b[0m\n\u001b[0m\u001b[0;32m   2658\u001b[0m             \u001b[1;32mexcept\u001b[0m \u001b[0mKeyError\u001b[0m\u001b[1;33m:\u001b[0m\u001b[1;33m\u001b[0m\u001b[1;33m\u001b[0m\u001b[0m\n",
      "\u001b[1;32mpandas/_libs/index.pyx\u001b[0m in \u001b[0;36mpandas._libs.index.IndexEngine.get_loc\u001b[1;34m()\u001b[0m\n",
      "\u001b[1;32mpandas/_libs/index.pyx\u001b[0m in \u001b[0;36mpandas._libs.index.IndexEngine.get_loc\u001b[1;34m()\u001b[0m\n",
      "\u001b[1;32mpandas/_libs/hashtable_class_helper.pxi\u001b[0m in \u001b[0;36mpandas._libs.hashtable.PyObjectHashTable.get_item\u001b[1;34m()\u001b[0m\n",
      "\u001b[1;32mpandas/_libs/hashtable_class_helper.pxi\u001b[0m in \u001b[0;36mpandas._libs.hashtable.PyObjectHashTable.get_item\u001b[1;34m()\u001b[0m\n",
      "\u001b[1;31mKeyError\u001b[0m: 'attributed_time'",
      "\nDuring handling of the above exception, another exception occurred:\n",
      "\u001b[1;31mKeyError\u001b[0m                                  Traceback (most recent call last)",
      "\u001b[1;32m<ipython-input-16-4ee4c062cf5f>\u001b[0m in \u001b[0;36m<module>\u001b[1;34m\u001b[0m\n\u001b[0;32m      1\u001b[0m \u001b[0mcheck_true_positive_ratio\u001b[0m\u001b[1;33m(\u001b[0m\u001b[0mdfTest\u001b[0m\u001b[1;33m)\u001b[0m\u001b[1;33m\u001b[0m\u001b[1;33m\u001b[0m\u001b[0m\n\u001b[1;32m----> 2\u001b[1;33m \u001b[0mdfTest\u001b[0m \u001b[1;33m=\u001b[0m \u001b[0mcleaning_transforming\u001b[0m\u001b[1;33m(\u001b[0m\u001b[0mdfTest\u001b[0m\u001b[1;33m)\u001b[0m\u001b[1;33m\u001b[0m\u001b[1;33m\u001b[0m\u001b[0m\n\u001b[0m",
      "\u001b[1;32m<ipython-input-7-b4cf02675e6a>\u001b[0m in \u001b[0;36mcleaning_transforming\u001b[1;34m(dataframe)\u001b[0m\n\u001b[0;32m      1\u001b[0m \u001b[1;32mdef\u001b[0m \u001b[0mcleaning_transforming\u001b[0m\u001b[1;33m(\u001b[0m\u001b[0mdataframe\u001b[0m\u001b[1;33m)\u001b[0m\u001b[1;33m:\u001b[0m\u001b[1;33m\u001b[0m\u001b[1;33m\u001b[0m\u001b[0m\n\u001b[0;32m      2\u001b[0m     \u001b[1;31m#this column is completely blank\u001b[0m\u001b[1;33m\u001b[0m\u001b[1;33m\u001b[0m\u001b[1;33m\u001b[0m\u001b[0m\n\u001b[1;32m----> 3\u001b[1;33m     \u001b[1;32mdel\u001b[0m \u001b[0mdataframe\u001b[0m\u001b[1;33m[\u001b[0m\u001b[1;34m'attributed_time'\u001b[0m\u001b[1;33m]\u001b[0m\u001b[1;33m\u001b[0m\u001b[1;33m\u001b[0m\u001b[0m\n\u001b[0m\u001b[0;32m      4\u001b[0m     \u001b[1;31m# Create new features out of time. Year and month are skipped as the data is only for 4 days\u001b[0m\u001b[1;33m\u001b[0m\u001b[1;33m\u001b[0m\u001b[1;33m\u001b[0m\u001b[0m\n\u001b[0;32m      5\u001b[0m     \u001b[0mdataframe\u001b[0m\u001b[1;33m[\u001b[0m\u001b[1;34m'click_time'\u001b[0m\u001b[1;33m]\u001b[0m \u001b[1;33m=\u001b[0m  \u001b[0mdd\u001b[0m\u001b[1;33m.\u001b[0m\u001b[0mto_datetime\u001b[0m\u001b[1;33m(\u001b[0m\u001b[0mdataframe\u001b[0m\u001b[1;33m[\u001b[0m\u001b[1;34m'click_time'\u001b[0m\u001b[1;33m]\u001b[0m\u001b[1;33m)\u001b[0m\u001b[1;33m\u001b[0m\u001b[1;33m\u001b[0m\u001b[0m\n",
      "\u001b[1;32mC:\\ProgramData\\Anaconda3\\lib\\site-packages\\pandas\\core\\generic.py\u001b[0m in \u001b[0;36m__delitem__\u001b[1;34m(self, key)\u001b[0m\n\u001b[0;32m   3313\u001b[0m             \u001b[1;31m# there was no match, this call should raise the appropriate\u001b[0m\u001b[1;33m\u001b[0m\u001b[1;33m\u001b[0m\u001b[1;33m\u001b[0m\u001b[0m\n\u001b[0;32m   3314\u001b[0m             \u001b[1;31m# exception:\u001b[0m\u001b[1;33m\u001b[0m\u001b[1;33m\u001b[0m\u001b[1;33m\u001b[0m\u001b[0m\n\u001b[1;32m-> 3315\u001b[1;33m             \u001b[0mself\u001b[0m\u001b[1;33m.\u001b[0m\u001b[0m_data\u001b[0m\u001b[1;33m.\u001b[0m\u001b[0mdelete\u001b[0m\u001b[1;33m(\u001b[0m\u001b[0mkey\u001b[0m\u001b[1;33m)\u001b[0m\u001b[1;33m\u001b[0m\u001b[1;33m\u001b[0m\u001b[0m\n\u001b[0m\u001b[0;32m   3316\u001b[0m \u001b[1;33m\u001b[0m\u001b[0m\n\u001b[0;32m   3317\u001b[0m         \u001b[1;31m# delete from the caches\u001b[0m\u001b[1;33m\u001b[0m\u001b[1;33m\u001b[0m\u001b[1;33m\u001b[0m\u001b[0m\n",
      "\u001b[1;32mC:\\ProgramData\\Anaconda3\\lib\\site-packages\\pandas\\core\\internals\\managers.py\u001b[0m in \u001b[0;36mdelete\u001b[1;34m(self, item)\u001b[0m\n\u001b[0;32m    983\u001b[0m         \u001b[0mDelete\u001b[0m \u001b[0mselected\u001b[0m \u001b[0mitem\u001b[0m \u001b[1;33m(\u001b[0m\u001b[0mitems\u001b[0m \u001b[1;32mif\u001b[0m \u001b[0mnon\u001b[0m\u001b[1;33m-\u001b[0m\u001b[0munique\u001b[0m\u001b[1;33m)\u001b[0m \u001b[1;32min\u001b[0m\u001b[1;33m-\u001b[0m\u001b[0mplace\u001b[0m\u001b[1;33m.\u001b[0m\u001b[1;33m\u001b[0m\u001b[1;33m\u001b[0m\u001b[0m\n\u001b[0;32m    984\u001b[0m         \"\"\"\n\u001b[1;32m--> 985\u001b[1;33m         \u001b[0mindexer\u001b[0m \u001b[1;33m=\u001b[0m \u001b[0mself\u001b[0m\u001b[1;33m.\u001b[0m\u001b[0mitems\u001b[0m\u001b[1;33m.\u001b[0m\u001b[0mget_loc\u001b[0m\u001b[1;33m(\u001b[0m\u001b[0mitem\u001b[0m\u001b[1;33m)\u001b[0m\u001b[1;33m\u001b[0m\u001b[1;33m\u001b[0m\u001b[0m\n\u001b[0m\u001b[0;32m    986\u001b[0m \u001b[1;33m\u001b[0m\u001b[0m\n\u001b[0;32m    987\u001b[0m         \u001b[0mis_deleted\u001b[0m \u001b[1;33m=\u001b[0m \u001b[0mnp\u001b[0m\u001b[1;33m.\u001b[0m\u001b[0mzeros\u001b[0m\u001b[1;33m(\u001b[0m\u001b[0mself\u001b[0m\u001b[1;33m.\u001b[0m\u001b[0mshape\u001b[0m\u001b[1;33m[\u001b[0m\u001b[1;36m0\u001b[0m\u001b[1;33m]\u001b[0m\u001b[1;33m,\u001b[0m \u001b[0mdtype\u001b[0m\u001b[1;33m=\u001b[0m\u001b[0mnp\u001b[0m\u001b[1;33m.\u001b[0m\u001b[0mbool_\u001b[0m\u001b[1;33m)\u001b[0m\u001b[1;33m\u001b[0m\u001b[1;33m\u001b[0m\u001b[0m\n",
      "\u001b[1;32mC:\\ProgramData\\Anaconda3\\lib\\site-packages\\pandas\\core\\indexes\\base.py\u001b[0m in \u001b[0;36mget_loc\u001b[1;34m(self, key, method, tolerance)\u001b[0m\n\u001b[0;32m   2657\u001b[0m                 \u001b[1;32mreturn\u001b[0m \u001b[0mself\u001b[0m\u001b[1;33m.\u001b[0m\u001b[0m_engine\u001b[0m\u001b[1;33m.\u001b[0m\u001b[0mget_loc\u001b[0m\u001b[1;33m(\u001b[0m\u001b[0mkey\u001b[0m\u001b[1;33m)\u001b[0m\u001b[1;33m\u001b[0m\u001b[1;33m\u001b[0m\u001b[0m\n\u001b[0;32m   2658\u001b[0m             \u001b[1;32mexcept\u001b[0m \u001b[0mKeyError\u001b[0m\u001b[1;33m:\u001b[0m\u001b[1;33m\u001b[0m\u001b[1;33m\u001b[0m\u001b[0m\n\u001b[1;32m-> 2659\u001b[1;33m                 \u001b[1;32mreturn\u001b[0m \u001b[0mself\u001b[0m\u001b[1;33m.\u001b[0m\u001b[0m_engine\u001b[0m\u001b[1;33m.\u001b[0m\u001b[0mget_loc\u001b[0m\u001b[1;33m(\u001b[0m\u001b[0mself\u001b[0m\u001b[1;33m.\u001b[0m\u001b[0m_maybe_cast_indexer\u001b[0m\u001b[1;33m(\u001b[0m\u001b[0mkey\u001b[0m\u001b[1;33m)\u001b[0m\u001b[1;33m)\u001b[0m\u001b[1;33m\u001b[0m\u001b[1;33m\u001b[0m\u001b[0m\n\u001b[0m\u001b[0;32m   2660\u001b[0m         \u001b[0mindexer\u001b[0m \u001b[1;33m=\u001b[0m \u001b[0mself\u001b[0m\u001b[1;33m.\u001b[0m\u001b[0mget_indexer\u001b[0m\u001b[1;33m(\u001b[0m\u001b[1;33m[\u001b[0m\u001b[0mkey\u001b[0m\u001b[1;33m]\u001b[0m\u001b[1;33m,\u001b[0m \u001b[0mmethod\u001b[0m\u001b[1;33m=\u001b[0m\u001b[0mmethod\u001b[0m\u001b[1;33m,\u001b[0m \u001b[0mtolerance\u001b[0m\u001b[1;33m=\u001b[0m\u001b[0mtolerance\u001b[0m\u001b[1;33m)\u001b[0m\u001b[1;33m\u001b[0m\u001b[1;33m\u001b[0m\u001b[0m\n\u001b[0;32m   2661\u001b[0m         \u001b[1;32mif\u001b[0m \u001b[0mindexer\u001b[0m\u001b[1;33m.\u001b[0m\u001b[0mndim\u001b[0m \u001b[1;33m>\u001b[0m \u001b[1;36m1\u001b[0m \u001b[1;32mor\u001b[0m \u001b[0mindexer\u001b[0m\u001b[1;33m.\u001b[0m\u001b[0msize\u001b[0m \u001b[1;33m>\u001b[0m \u001b[1;36m1\u001b[0m\u001b[1;33m:\u001b[0m\u001b[1;33m\u001b[0m\u001b[1;33m\u001b[0m\u001b[0m\n",
      "\u001b[1;32mpandas/_libs/index.pyx\u001b[0m in \u001b[0;36mpandas._libs.index.IndexEngine.get_loc\u001b[1;34m()\u001b[0m\n",
      "\u001b[1;32mpandas/_libs/index.pyx\u001b[0m in \u001b[0;36mpandas._libs.index.IndexEngine.get_loc\u001b[1;34m()\u001b[0m\n",
      "\u001b[1;32mpandas/_libs/hashtable_class_helper.pxi\u001b[0m in \u001b[0;36mpandas._libs.hashtable.PyObjectHashTable.get_item\u001b[1;34m()\u001b[0m\n",
      "\u001b[1;32mpandas/_libs/hashtable_class_helper.pxi\u001b[0m in \u001b[0;36mpandas._libs.hashtable.PyObjectHashTable.get_item\u001b[1;34m()\u001b[0m\n",
      "\u001b[1;31mKeyError\u001b[0m: 'attributed_time'"
     ]
    }
   ],
   "source": [
    "check_true_positive_ratio(dfTest)\n",
    "dfTest = cleaning_transforming(dfTest)"
   ]
  },
  {
   "cell_type": "code",
   "execution_count": 17,
   "metadata": {},
   "outputs": [
    {
     "name": "stdout",
     "output_type": "stream",
     "text": [
      "Logistic Model Accuracy\n",
      "Model's on test set: 0.80\n"
     ]
    }
   ],
   "source": [
    "print(\"Logistic Model Accuracy\")\n",
    "display_accuracy(best_model_lr[\"model\"], dfTest)"
   ]
  },
  {
   "cell_type": "code",
   "execution_count": 18,
   "metadata": {},
   "outputs": [
    {
     "name": "stdout",
     "output_type": "stream",
     "text": [
      "Logistic Model Confusion Matrix\n",
      "[[79525 20296]\n",
      " [   43   136]]\n",
      "Number of correct predictions:  79661\n",
      "Number of incorrect predictions:  20339\n"
     ]
    }
   ],
   "source": [
    "print(\"Logistic Model Confusion Matrix\")\n",
    "confsn_matrx = display_confusion_matrix(best_model_lr[\"model\"], dfTest)\n",
    "correct_predictions = confsn_matrx[0][0] + confsn_matrx[1][1]\n",
    "incorrect_predictions = confsn_matrx[0][1] + confsn_matrx[1][0]\n",
    "print(\"Number of correct predictions: \", correct_predictions)\n",
    "print(\"Number of incorrect predictions: \", incorrect_predictions)"
   ]
  },
  {
   "cell_type": "code",
   "execution_count": 19,
   "metadata": {},
   "outputs": [
    {
     "name": "stdout",
     "output_type": "stream",
     "text": [
      "              precision    recall  f1-score   support\n",
      "\n",
      "           0       1.00      0.80      0.89     99821\n",
      "           1       0.01      0.76      0.01       179\n",
      "\n",
      "   micro avg       0.80      0.80      0.80    100000\n",
      "   macro avg       0.50      0.78      0.45    100000\n",
      "weighted avg       1.00      0.80      0.89    100000\n",
      "\n"
     ]
    }
   ],
   "source": [
    "display_classification_report(best_model_lr[\"model\"], dfTest)"
   ]
  },
  {
   "cell_type": "code",
   "execution_count": null,
   "metadata": {},
   "outputs": [],
   "source": []
  },
  {
   "cell_type": "code",
   "execution_count": null,
   "metadata": {},
   "outputs": [],
   "source": []
  },
  {
   "cell_type": "code",
   "execution_count": null,
   "metadata": {},
   "outputs": [],
   "source": []
  },
  {
   "cell_type": "code",
   "execution_count": null,
   "metadata": {},
   "outputs": [],
   "source": []
  },
  {
   "cell_type": "code",
   "execution_count": null,
   "metadata": {},
   "outputs": [],
   "source": []
  },
  {
   "cell_type": "code",
   "execution_count": 21,
   "metadata": {},
   "outputs": [
    {
     "name": "stdout",
     "output_type": "stream",
     "text": [
      "0.8344230769230768\n",
      "0.8295454545454546\n",
      "0.8835194455140547\n",
      "0.24344135802469133\n",
      "0.7454755487100501\n",
      "0.7731641676278354\n",
      "0.8613785136696187\n",
      "0.8295454545454546\n",
      "0.8171153846153847\n",
      "0.8632445141065831\n",
      "best auc is  0.8632445141065831\n",
      "ROC curve for validation set for support vector machine with linear kernel\n"
     ]
    },
    {
     "data": {
      "text/plain": [
       "[<matplotlib.lines.Line2D at 0x60f79e8>,\n",
       " <matplotlib.lines.Line2D at 0xcdb3128>]"
      ]
     },
     "execution_count": 21,
     "metadata": {},
     "output_type": "execute_result"
    },
    {
     "data": {
      "image/png": "[encoded data removed]",
      "text/plain": [
       "<Figure size 432x288 with 1 Axes>"
      ]
     },
     "metadata": {
      "needs_background": "light"
     },
     "output_type": "display_data"
    }
   ],
   "source": [
    "#building model for support vector machine with linear kernel\n",
    "dTrain = pd.DataFrame()\n",
    "\n",
    "dCV = pd.DataFrame()\n",
    "\n",
    "split_size = 0.3\n",
    "best_model_svm = {}\n",
    "model_list_svm = []\n",
    "best_auc_svm = np.float64(0)\n",
    "\n",
    "#building model\n",
    "for chunk in dfTrainBal:\n",
    "    random_int = random.randint(1,10)\n",
    "    random_state = np.random.RandomState(random_int)\n",
    "    #building data for crossvalidation\n",
    "    dTrain, dCV = model_tts(chunk, test_size=split_size, random_state=random_state, shuffle=True )\n",
    "    #Get X and y\n",
    "    yTrain = dTrain['is_attributed']\n",
    "    xTrain = dTrain.drop('is_attributed',axis=1)\n",
    "    yCV = dCV['is_attributed']\n",
    "    xCV = dCV.drop('is_attributed',axis=1)\n",
    "    clfSVM = svm.SVC(kernel='linear', probability=True,random_state=random_state)\n",
    "    results_svm = draw_roc(clfSVM, chunk)\n",
    "    model_list_svm.append(results_svm)\n",
    "    print(results_svm[\"roc_auc\"])\n",
    "\n",
    "for model in model_list_svm:\n",
    "    if(np.greater(model[\"roc_auc\"], best_auc_svm)):\n",
    "        best_auc_lr = model[\"roc_auc\"]\n",
    "        best_model_svm = model\n",
    "\n",
    "print(\"best auc is \" , best_model_svm[\"roc_auc\"])\n",
    "print(\"ROC curve for validation set for support vector machine with linear kernel\")\n",
    "plt.plot(best_model_svm[\"fpr\"], \n",
    "          best_model_svm[\"tpr\"], best_model_svm[\"lw\"], best_model_svm[\"alpha\"],\n",
    "          label='ROC fold %d (AUC = %0.2f)' % (0, best_model_svm[\"roc_auc\"]))\n"
   ]
  },
  {
   "cell_type": "code",
   "execution_count": 22,
   "metadata": {},
   "outputs": [
    {
     "data": {
      "text/plain": [
       "SVC(C=1.0, cache_size=200, class_weight=None, coef0=0.0,\n",
       "  decision_function_shape='ovr', degree=3, gamma='auto_deprecated',\n",
       "  kernel='linear', max_iter=-1, probability=True,\n",
       "  random_state=<mtrand.RandomState object at 0x00000000060CD360>,\n",
       "  shrinking=True, tol=0.001, verbose=False)"
      ]
     },
     "execution_count": 22,
     "metadata": {},
     "output_type": "execute_result"
    }
   ],
   "source": [
    "best_model_svm[\"model\"]"
   ]
  },
  {
   "cell_type": "code",
   "execution_count": 23,
   "metadata": {},
   "outputs": [
    {
     "ename": "NameError",
     "evalue": "name 'clf' is not defined",
     "output_type": "error",
     "traceback": [
      "\u001b[1;31m---------------------------------------------------------------------------\u001b[0m",
      "\u001b[1;31mNameError\u001b[0m                                 Traceback (most recent call last)",
      "\u001b[1;32m<ipython-input-23-880d61084cad>\u001b[0m in \u001b[0;36m<module>\u001b[1;34m\u001b[0m\n\u001b[0;32m      1\u001b[0m \u001b[1;31m#Testing best model for svm with linear kernel\u001b[0m\u001b[1;33m\u001b[0m\u001b[1;33m\u001b[0m\u001b[1;33m\u001b[0m\u001b[0m\n\u001b[1;32m----> 2\u001b[1;33m \u001b[0mtest_svm\u001b[0m \u001b[1;33m=\u001b[0m \u001b[0mget_roc_test\u001b[0m\u001b[1;33m(\u001b[0m\u001b[0mbest_model_svm\u001b[0m\u001b[1;33m[\u001b[0m\u001b[1;34m\"model\"\u001b[0m\u001b[1;33m]\u001b[0m\u001b[1;33m,\u001b[0m \u001b[0mdfTest\u001b[0m\u001b[1;33m)\u001b[0m\u001b[1;33m\u001b[0m\u001b[1;33m\u001b[0m\u001b[0m\n\u001b[0m\u001b[0;32m      3\u001b[0m \u001b[0mprint\u001b[0m\u001b[1;33m(\u001b[0m\u001b[1;34m\"best model's auc on test set for svm with linear kernel is \"\u001b[0m \u001b[1;33m,\u001b[0m \u001b[0mtest_svm\u001b[0m\u001b[1;33m[\u001b[0m\u001b[1;34m\"roc_auc\"\u001b[0m\u001b[1;33m]\u001b[0m\u001b[1;33m)\u001b[0m\u001b[1;33m\u001b[0m\u001b[1;33m\u001b[0m\u001b[0m\n\u001b[0;32m      4\u001b[0m \u001b[0mprint\u001b[0m\u001b[1;33m(\u001b[0m\u001b[1;34m\"ROC curve for test set for svm with linear kernel\"\u001b[0m\u001b[1;33m)\u001b[0m\u001b[1;33m\u001b[0m\u001b[1;33m\u001b[0m\u001b[0m\n\u001b[0;32m      5\u001b[0m plt.plot(test_svm[\"fpr\"], \n",
      "\u001b[1;32m<ipython-input-7-b4cf02675e6a>\u001b[0m in \u001b[0;36mget_roc_test\u001b[1;34m(model, test_data)\u001b[0m\n\u001b[0;32m    139\u001b[0m     \u001b[0maucs\u001b[0m\u001b[1;33m.\u001b[0m\u001b[0mappend\u001b[0m\u001b[1;33m(\u001b[0m\u001b[0mroc_auc\u001b[0m\u001b[1;33m)\u001b[0m\u001b[1;33m\u001b[0m\u001b[1;33m\u001b[0m\u001b[0m\n\u001b[0;32m    140\u001b[0m     \u001b[1;31m#plt.plot(fpr, tpr, lw=1, alpha=0.3, label='ROC fold %d (AUC = %0.2f)' % (0, roc_auc))\u001b[0m\u001b[1;33m\u001b[0m\u001b[1;33m\u001b[0m\u001b[1;33m\u001b[0m\u001b[0m\n\u001b[1;32m--> 141\u001b[1;33m     \u001b[0mresult_dict\u001b[0m\u001b[1;33m[\u001b[0m\u001b[1;34m\"model\"\u001b[0m\u001b[1;33m]\u001b[0m \u001b[1;33m=\u001b[0m \u001b[0mclf\u001b[0m\u001b[1;33m\u001b[0m\u001b[1;33m\u001b[0m\u001b[0m\n\u001b[0m\u001b[0;32m    142\u001b[0m     \u001b[0mresult_dict\u001b[0m\u001b[1;33m[\u001b[0m\u001b[1;34m\"fpr\"\u001b[0m\u001b[1;33m]\u001b[0m \u001b[1;33m=\u001b[0m \u001b[0mfpr\u001b[0m\u001b[1;33m\u001b[0m\u001b[1;33m\u001b[0m\u001b[0m\n\u001b[0;32m    143\u001b[0m     \u001b[0mresult_dict\u001b[0m\u001b[1;33m[\u001b[0m\u001b[1;34m\"tpr\"\u001b[0m\u001b[1;33m]\u001b[0m \u001b[1;33m=\u001b[0m \u001b[0mtpr\u001b[0m\u001b[1;33m\u001b[0m\u001b[1;33m\u001b[0m\u001b[0m\n",
      "\u001b[1;31mNameError\u001b[0m: name 'clf' is not defined"
     ]
    }
   ],
   "source": [
    "#Testing best model for svm with linear kernel\n",
    "test_svm = get_roc_test(best_model_svm[\"model\"], dfTest)\n",
    "print(\"best model's auc on test set for svm with linear kernel is \" , test_svm[\"roc_auc\"])\n",
    "print(\"ROC curve for test set for svm with linear kernel\")\n",
    "plt.plot(test_svm[\"fpr\"], \n",
    "          test_svm[\"tpr\"], test_svm[\"lw\"], test_svm[\"alpha\"],\n",
    "          label='ROC fold %d (AUC = %0.2f)' % (0, test_svm[\"roc_auc\"]))\n",
    "plt.plot([0, 1], [0, 1],'r--')\n",
    "plt.xlim([0.0, 1.0])\n",
    "plt.ylim([0.0, 1.05])\n",
    "plt.xlabel('False Positive Rate')\n",
    "plt.ylabel('True Positive Rate')\n",
    "plt.title('Receiver operating characteristic')\n",
    "plt.legend(loc=\"lower right\")\n",
    "plt.savefig('Log_ROC')\n",
    "plt.show()"
   ]
  },
  {
   "cell_type": "code",
   "execution_count": 24,
   "metadata": {},
   "outputs": [],
   "source": [
    "from sklearn import svm\n",
    "clf = svm.SVC(gamma=0.001, C=100.)"
   ]
  },
  {
   "cell_type": "code",
   "execution_count": 25,
   "metadata": {},
   "outputs": [
    {
     "name": "stdout",
     "output_type": "stream",
     "text": [
      "best model's auc on test set for svm with linear kernel is  0.8241043646898899\n",
      "ROC curve for test set for svm with linear kernel\n"
     ]
    },
    {
     "data": {
      "image/png": "[encoded data removed]",
      "text/plain": [
       "<Figure size 432x288 with 1 Axes>"
      ]
     },
     "metadata": {
      "needs_background": "light"
     },
     "output_type": "display_data"
    }
   ],
   "source": [
    "#Testing best model for svm with linear kernel\n",
    "test_svm = get_roc_test(best_model_svm[\"model\"], dfTest)\n",
    "print(\"best model's auc on test set for svm with linear kernel is \" , test_svm[\"roc_auc\"])\n",
    "print(\"ROC curve for test set for svm with linear kernel\")\n",
    "plt.plot(test_svm[\"fpr\"], \n",
    "          test_svm[\"tpr\"], test_svm[\"lw\"], test_svm[\"alpha\"],\n",
    "          label='ROC fold %d (AUC = %0.2f)' % (0, test_svm[\"roc_auc\"]))\n",
    "plt.plot([0, 1], [0, 1],'r--')\n",
    "plt.xlim([0.0, 1.0])\n",
    "plt.ylim([0.0, 1.05])\n",
    "plt.xlabel('False Positive Rate')\n",
    "plt.ylabel('True Positive Rate')\n",
    "plt.title('Receiver operating characteristic')\n",
    "plt.legend(loc=\"lower right\")\n",
    "plt.savefig('Log_ROC')\n",
    "plt.show()"
   ]
  },
  {
   "cell_type": "code",
   "execution_count": 26,
   "metadata": {},
   "outputs": [
    {
     "name": "stdout",
     "output_type": "stream",
     "text": [
      "SVM Model Accuracy\n",
      "Model's on test set: 0.59\n"
     ]
    }
   ],
   "source": [
    "#diplaying accuracy of svm with linear kernel\n",
    "print(\"SVM Model Accuracy\")\n",
    "display_accuracy(best_model_svm[\"model\"], dfTest)"
   ]
  },
  {
   "cell_type": "code",
   "execution_count": 27,
   "metadata": {},
   "outputs": [
    {
     "name": "stdout",
     "output_type": "stream",
     "text": [
      "SVM Model Confusion Matrix\n",
      "[[59340 40481]\n",
      " [   25   154]]\n",
      "Number of correct predictions:  59494\n",
      "Number of incorrect predictions:  40506\n"
     ]
    }
   ],
   "source": [
    "#printing model's confusion matrix for svm\n",
    "print(\"SVM Model Confusion Matrix\")\n",
    "confsn_matrx = display_confusion_matrix(best_model_svm[\"model\"], dfTest)\n",
    "correct_predictions = confsn_matrx[0][0] + confsn_matrx[1][1]\n",
    "incorrect_predictions = confsn_matrx[0][1] + confsn_matrx[1][0]\n",
    "print(\"Number of correct predictions: \", correct_predictions)\n",
    "print(\"Number of incorrect predictions: \", incorrect_predictions)"
   ]
  },
  {
   "cell_type": "code",
   "execution_count": 28,
   "metadata": {},
   "outputs": [
    {
     "name": "stdout",
     "output_type": "stream",
     "text": [
      "              precision    recall  f1-score   support\n",
      "\n",
      "           0       1.00      0.59      0.75     99821\n",
      "           1       0.00      0.86      0.01       179\n",
      "\n",
      "   micro avg       0.59      0.59      0.59    100000\n",
      "   macro avg       0.50      0.73      0.38    100000\n",
      "weighted avg       1.00      0.59      0.74    100000\n",
      "\n"
     ]
    }
   ],
   "source": [
    "display_classification_report(best_model_svm[\"model\"], dfTest)"
   ]
  },
  {
   "cell_type": "code",
   "execution_count": 29,
   "metadata": {},
   "outputs": [
    {
     "name": "stderr",
     "output_type": "stream",
     "text": [
      "C:\\ProgramData\\Anaconda3\\lib\\site-packages\\sklearn\\svm\\base.py:196: FutureWarning: The default value of gamma will change from 'auto' to 'scale' in version 0.22 to account better for unscaled features. Set gamma explicitly to 'auto' or 'scale' to avoid this warning.\n",
      "  \"avoid this warning.\", FutureWarning)\n",
      "C:\\ProgramData\\Anaconda3\\lib\\site-packages\\sklearn\\svm\\base.py:196: FutureWarning: The default value of gamma will change from 'auto' to 'scale' in version 0.22 to account better for unscaled features. Set gamma explicitly to 'auto' or 'scale' to avoid this warning.\n",
      "  \"avoid this warning.\", FutureWarning)\n",
      "C:\\ProgramData\\Anaconda3\\lib\\site-packages\\sklearn\\svm\\base.py:196: FutureWarning: The default value of gamma will change from 'auto' to 'scale' in version 0.22 to account better for unscaled features. Set gamma explicitly to 'auto' or 'scale' to avoid this warning.\n",
      "  \"avoid this warning.\", FutureWarning)\n",
      "C:\\ProgramData\\Anaconda3\\lib\\site-packages\\sklearn\\svm\\base.py:196: FutureWarning: The default value of gamma will change from 'auto' to 'scale' in version 0.22 to account better for unscaled features. Set gamma explicitly to 'auto' or 'scale' to avoid this warning.\n",
      "  \"avoid this warning.\", FutureWarning)\n",
      "C:\\ProgramData\\Anaconda3\\lib\\site-packages\\sklearn\\svm\\base.py:196: FutureWarning: The default value of gamma will change from 'auto' to 'scale' in version 0.22 to account better for unscaled features. Set gamma explicitly to 'auto' or 'scale' to avoid this warning.\n",
      "  \"avoid this warning.\", FutureWarning)\n",
      "C:\\ProgramData\\Anaconda3\\lib\\site-packages\\sklearn\\svm\\base.py:196: FutureWarning: The default value of gamma will change from 'auto' to 'scale' in version 0.22 to account better for unscaled features. Set gamma explicitly to 'auto' or 'scale' to avoid this warning.\n",
      "  \"avoid this warning.\", FutureWarning)\n",
      "C:\\ProgramData\\Anaconda3\\lib\\site-packages\\sklearn\\svm\\base.py:196: FutureWarning: The default value of gamma will change from 'auto' to 'scale' in version 0.22 to account better for unscaled features. Set gamma explicitly to 'auto' or 'scale' to avoid this warning.\n",
      "  \"avoid this warning.\", FutureWarning)\n"
     ]
    },
    {
     "name": "stdout",
     "output_type": "stream",
     "text": [
      "0.46938775510204084\n",
      "0.5092592592592593\n",
      "0.5\n",
      "0.5\n",
      "0.5\n",
      "0.5\n",
      "0.5108695652173914\n",
      "0.5089285714285714\n",
      "0.5\n",
      "0.5\n",
      "best auc is  0.5108695652173914\n",
      "ROC curve for validation set for support vector machine with gaussian kernel\n"
     ]
    },
    {
     "name": "stderr",
     "output_type": "stream",
     "text": [
      "C:\\ProgramData\\Anaconda3\\lib\\site-packages\\sklearn\\svm\\base.py:196: FutureWarning: The default value of gamma will change from 'auto' to 'scale' in version 0.22 to account better for unscaled features. Set gamma explicitly to 'auto' or 'scale' to avoid this warning.\n",
      "  \"avoid this warning.\", FutureWarning)\n",
      "C:\\ProgramData\\Anaconda3\\lib\\site-packages\\sklearn\\svm\\base.py:196: FutureWarning: The default value of gamma will change from 'auto' to 'scale' in version 0.22 to account better for unscaled features. Set gamma explicitly to 'auto' or 'scale' to avoid this warning.\n",
      "  \"avoid this warning.\", FutureWarning)\n",
      "C:\\ProgramData\\Anaconda3\\lib\\site-packages\\sklearn\\svm\\base.py:196: FutureWarning: The default value of gamma will change from 'auto' to 'scale' in version 0.22 to account better for unscaled features. Set gamma explicitly to 'auto' or 'scale' to avoid this warning.\n",
      "  \"avoid this warning.\", FutureWarning)\n"
     ]
    },
    {
     "data": {
      "text/plain": [
       "[<matplotlib.lines.Line2D at 0xcfaab38>,\n",
       " <matplotlib.lines.Line2D at 0xcf45898>]"
      ]
     },
     "execution_count": 29,
     "metadata": {},
     "output_type": "execute_result"
    },
    {
     "data": {
      "image/png": "[encoded data removed]",
      "text/plain": [
       "<Figure size 432x288 with 1 Axes>"
      ]
     },
     "metadata": {
      "needs_background": "light"
     },
     "output_type": "display_data"
    }
   ],
   "source": [
    "dTrain = pd.DataFrame()\n",
    "\n",
    "dCV = pd.DataFrame()\n",
    "\n",
    "split_size = 0.3\n",
    "best_model_svm_gk = {}\n",
    "model_list_svm_gk = []\n",
    "best_auc_svm_gk = np.float64(0)\n",
    "\n",
    "#building model\n",
    "for chunk in dfTrainBal:\n",
    "    random_int = random.randint(1,10)\n",
    "    random_state = np.random.RandomState(random_int)\n",
    "    #building data for crossvalidation\n",
    "    dTrain, dCV = model_tts(chunk, test_size=split_size, random_state=random_state, shuffle=True )\n",
    "    #Get X and y\n",
    "    yTrain = dTrain['is_attributed']\n",
    "    xTrain = dTrain.drop('is_attributed',axis=1)\n",
    "    yCV = dCV['is_attributed']\n",
    "    xCV = dCV.drop('is_attributed',axis=1)\n",
    "    clfSVM = svm.SVC(kernel='rbf', probability=True,random_state=random_state)\n",
    "    results_svm_gk = draw_roc(clfSVM, chunk)\n",
    "    model_list_svm_gk.append(results_svm_gk)\n",
    "    print(results_svm_gk[\"roc_auc\"])\n",
    "\n",
    "for model in model_list_svm_gk:\n",
    "    if(np.greater(model[\"roc_auc\"], best_auc_svm_gk)):\n",
    "        best_auc_svm_gk = model[\"roc_auc\"]\n",
    "        best_model_svm_gk = model\n",
    "\n",
    "print(\"best auc is \" , best_model_svm_gk[\"roc_auc\"])\n",
    "print(\"ROC curve for validation set for support vector machine with gaussian kernel\")\n",
    "plt.plot(best_model_svm_gk[\"fpr\"], \n",
    "          best_model_svm_gk[\"tpr\"], best_model_svm_gk[\"lw\"], best_model_svm_gk[\"alpha\"],\n",
    "          label='ROC fold %d (AUC = %0.2f)' % (0, best_model_svm_gk[\"roc_auc\"]))\n",
    "\n",
    "\n"
   ]
  },
  {
   "cell_type": "code",
   "execution_count": 30,
   "metadata": {},
   "outputs": [
    {
     "data": {
      "text/plain": [
       "SVC(C=1.0, cache_size=200, class_weight=None, coef0=0.0,\n",
       "  decision_function_shape='ovr', degree=3, gamma='auto_deprecated',\n",
       "  kernel='rbf', max_iter=-1, probability=True,\n",
       "  random_state=<mtrand.RandomState object at 0x000000000CF79480>,\n",
       "  shrinking=True, tol=0.001, verbose=False)"
      ]
     },
     "execution_count": 30,
     "metadata": {},
     "output_type": "execute_result"
    }
   ],
   "source": [
    "best_model_svm_gk[\"model\"]"
   ]
  },
  {
   "cell_type": "code",
   "execution_count": 31,
   "metadata": {},
   "outputs": [
    {
     "name": "stdout",
     "output_type": "stream",
     "text": [
      "best model's auc on test set for svm with gaussian kernel is  0.49841215776239467\n",
      "ROC curve for test set for svm with gaussian kernel\n"
     ]
    },
    {
     "data": {
      "image/png": "[encoded data removed]",
      "text/plain": [
       "<Figure size 432x288 with 1 Axes>"
      ]
     },
     "metadata": {
      "needs_background": "light"
     },
     "output_type": "display_data"
    }
   ],
   "source": [
    "\n",
    "#Testing best model for SVM with Gaussian Kernel\n",
    "test_svm_gk = get_roc_test(best_model_svm_gk[\"model\"], dfTest)\n",
    "print(\"best model's auc on test set for svm with gaussian kernel is \" , test_svm_gk[\"roc_auc\"])\n",
    "print(\"ROC curve for test set for svm with gaussian kernel\")\n",
    "plt.plot(test_svm_gk[\"fpr\"], \n",
    "          test_svm_gk[\"tpr\"], test_svm_gk[\"lw\"], test_svm_gk[\"alpha\"],\n",
    "          label='ROC fold %d (AUC = %0.2f)' % (0, test_svm_gk[\"roc_auc\"]))\n",
    "plt.plot([0, 1], [0, 1],'r--')\n",
    "plt.xlim([0.0, 1.0])\n",
    "plt.ylim([0.0, 1.05])\n",
    "plt.xlabel('False Positive Rate')\n",
    "plt.ylabel('True Positive Rate')\n",
    "plt.title('Receiver operating characteristic')\n",
    "plt.legend(loc=\"lower right\")\n",
    "plt.savefig('Log_ROC')\n",
    "plt.show()\n",
    "\n"
   ]
  },
  {
   "cell_type": "code",
   "execution_count": null,
   "metadata": {},
   "outputs": [],
   "source": []
  },
  {
   "cell_type": "code",
   "execution_count": null,
   "metadata": {},
   "outputs": [],
   "source": []
  },
  {
   "cell_type": "code",
   "execution_count": null,
   "metadata": {},
   "outputs": [],
   "source": []
  },
  {
   "cell_type": "code",
   "execution_count": null,
   "metadata": {},
   "outputs": [],
   "source": []
  },
  {
   "cell_type": "code",
   "execution_count": 36,
   "metadata": {},
   "outputs": [
    {
     "name": "stdout",
     "output_type": "stream",
     "text": [
      "0.9355769230769231\n",
      "0.9274068322981367\n",
      "0.9066230265691182\n",
      "0.8966114747785908\n",
      "0.8335262345679011\n",
      "0.876929012345679\n",
      "0.8477508650519031\n",
      "0.9170196380438969\n",
      "0.9195900670082775\n",
      "0.8567858515955401\n",
      "best auc is  0.9355769230769231\n",
      "ROC curve for validation set for random forest\n"
     ]
    },
    {
     "data": {
      "text/plain": [
       "[<matplotlib.lines.Line2D at 0xd1f8b70>,\n",
       " <matplotlib.lines.Line2D at 0xcf6b128>]"
      ]
     },
     "execution_count": 36,
     "metadata": {},
     "output_type": "execute_result"
    },
    {
     "data": {
      "image/png": "[encoded data removed]",
      "text/plain": [
       "<Figure size 432x288 with 1 Axes>"
      ]
     },
     "metadata": {
      "needs_background": "light"
     },
     "output_type": "display_data"
    }
   ],
   "source": [
    "#building model with random forest\n",
    "dTrain = pd.DataFrame()\n",
    "\n",
    "dCV = pd.DataFrame()\n",
    "\n",
    "split_size = 0.3\n",
    "best_model_rf = {}\n",
    "model_list_rf = []\n",
    "best_auc_rf = np.float64(0)\n",
    "\n",
    "#building model\n",
    "for chunk in dfTrainBal:\n",
    "    random_int = random.randint(1,10)\n",
    "    random_state = np.random.RandomState(random_int)\n",
    "    #building data for crossvalidation\n",
    "    dTrain, dCV = model_tts(chunk, test_size=split_size, random_state=random_state, shuffle=True )\n",
    "    #Get X and y\n",
    "    yTrain = dTrain['is_attributed']\n",
    "    xTrain = dTrain.drop('is_attributed',axis=1)\n",
    "    yCV = dCV['is_attributed']\n",
    "    xCV = dCV.drop('is_attributed',axis=1)\n",
    "    clfRF = RandomForestClassifier(n_estimators=100,random_state=random_state)\n",
    "    results_rf = draw_roc(clfRF, chunk)\n",
    "    model_list_rf.append(results_rf)\n",
    "    print(results_rf[\"roc_auc\"])\n",
    "\n",
    "for model in model_list_rf:\n",
    "    if(np.greater(model[\"roc_auc\"], best_auc_rf)):\n",
    "        best_auc_rf = model[\"roc_auc\"]\n",
    "        best_model_rf = model\n",
    "\n",
    "print(\"best auc is \" , best_model_rf[\"roc_auc\"])\n",
    "print(\"ROC curve for validation set for random forest\")\n",
    "plt.plot(best_model_rf[\"fpr\"], \n",
    "          best_model_rf[\"tpr\"], best_model_rf[\"lw\"], best_model_rf[\"alpha\"],\n",
    "          label='ROC fold %d (AUC = %0.2f)' % (0, best_model_rf[\"roc_auc\"]))\n",
    "\n"
   ]
  },
  {
   "cell_type": "code",
   "execution_count": 37,
   "metadata": {},
   "outputs": [
    {
     "data": {
      "text/plain": [
       "RandomForestClassifier(bootstrap=True, class_weight=None, criterion='gini',\n",
       "            max_depth=None, max_features='auto', max_leaf_nodes=None,\n",
       "            min_impurity_decrease=0.0, min_impurity_split=None,\n",
       "            min_samples_leaf=1, min_samples_split=2,\n",
       "            min_weight_fraction_leaf=0.0, n_estimators=100, n_jobs=None,\n",
       "            oob_score=False,\n",
       "            random_state=<mtrand.RandomState object at 0x000000000D03E5A0>,\n",
       "            verbose=0, warm_start=False)"
      ]
     },
     "execution_count": 37,
     "metadata": {},
     "output_type": "execute_result"
    }
   ],
   "source": [
    "best_model_rf[\"model\"]"
   ]
  },
  {
   "cell_type": "code",
   "execution_count": 38,
   "metadata": {},
   "outputs": [
    {
     "name": "stdout",
     "output_type": "stream",
     "text": [
      "best model's auc on test set for random forest is  0.9152074391932509\n",
      "ROC curve for test set for random forest\n"
     ]
    },
    {
     "data": {
      "image/png": "[encoded data removed]",
      "text/plain": [
       "<Figure size 432x288 with 1 Axes>"
      ]
     },
     "metadata": {
      "needs_background": "light"
     },
     "output_type": "display_data"
    }
   ],
   "source": [
    "test_rf = get_roc_test(best_model_rf[\"model\"], dfTest)\n",
    "print(\"best model's auc on test set for random forest is \" , test_rf[\"roc_auc\"])\n",
    "# #print(dTrain.head())\n",
    "print(\"ROC curve for test set for random forest\")\n",
    "plt.plot(test_rf[\"fpr\"], \n",
    "          test_rf[\"tpr\"], test_rf[\"lw\"], test_rf[\"alpha\"],\n",
    "          label='ROC fold %d (AUC = %0.2f)' % (0, test_rf[\"roc_auc\"]))\n",
    "plt.plot([0, 1], [0, 1],'r--')\n",
    "plt.xlim([0.0, 1.0])\n",
    "plt.ylim([0.0, 1.05])\n",
    "plt.xlabel('False Positive Rate')\n",
    "plt.ylabel('True Positive Rate')\n",
    "plt.title('Receiver operating characteristic')\n",
    "plt.legend(loc=\"lower right\")\n",
    "plt.savefig('Log_ROC')\n",
    "plt.show()"
   ]
  },
  {
   "cell_type": "code",
   "execution_count": 39,
   "metadata": {},
   "outputs": [
    {
     "name": "stdout",
     "output_type": "stream",
     "text": [
      "Random Forest Accuracy\n",
      "Model's on test set: 0.86\n"
     ]
    }
   ],
   "source": [
    "#diplaying accuracy of random forest\n",
    "print(\"Random Forest Accuracy\")\n",
    "display_accuracy(best_model_rf[\"model\"], dfTest)\n"
   ]
  },
  {
   "cell_type": "code",
   "execution_count": 40,
   "metadata": {},
   "outputs": [
    {
     "name": "stdout",
     "output_type": "stream",
     "text": [
      "Random Forest Confusion Matrix\n",
      "[[85354 14467]\n",
      " [   29   150]]\n",
      "Number of correct predictions:  85504\n",
      "Number of incorrect predictions:  14496\n"
     ]
    }
   ],
   "source": [
    "#printing model's confusion matrix for random forest\n",
    "print(\"Random Forest Confusion Matrix\")\n",
    "confsn_matrx = display_confusion_matrix(best_model_rf[\"model\"], dfTest)\n",
    "correct_predictions = confsn_matrx[0][0] + confsn_matrx[1][1]\n",
    "incorrect_predictions = confsn_matrx[0][1] + confsn_matrx[1][0]\n",
    "print(\"Number of correct predictions: \", correct_predictions)\n",
    "print(\"Number of incorrect predictions: \", incorrect_predictions)"
   ]
  },
  {
   "cell_type": "code",
   "execution_count": 41,
   "metadata": {},
   "outputs": [
    {
     "name": "stdout",
     "output_type": "stream",
     "text": [
      "              precision    recall  f1-score   support\n",
      "\n",
      "           0       1.00      0.86      0.92     99821\n",
      "           1       0.01      0.84      0.02       179\n",
      "\n",
      "   micro avg       0.86      0.86      0.86    100000\n",
      "   macro avg       0.50      0.85      0.47    100000\n",
      "weighted avg       1.00      0.86      0.92    100000\n",
      "\n"
     ]
    }
   ],
   "source": [
    "display_classification_report(best_model_rf[\"model\"], dfTest)"
   ]
  },
  {
   "cell_type": "code",
   "execution_count": null,
   "metadata": {},
   "outputs": [],
   "source": []
  },
  {
   "cell_type": "code",
   "execution_count": null,
   "metadata": {},
   "outputs": [],
   "source": []
  },
  {
   "cell_type": "code",
   "execution_count": null,
   "metadata": {},
   "outputs": [],
   "source": []
  },
  {
   "cell_type": "code",
   "execution_count": null,
   "metadata": {},
   "outputs": [],
   "source": []
  },
  {
   "cell_type": "code",
   "execution_count": null,
   "metadata": {},
   "outputs": [],
   "source": []
  },
  {
   "cell_type": "code",
   "execution_count": 48,
   "metadata": {},
   "outputs": [
    {
     "name": "stdout",
     "output_type": "stream",
     "text": [
      "positive cases in training set:  0.18717 %\n",
      "\n",
      "number of positive cases are 18717\n",
      "Number of positive rows  18717\n",
      "Number of rows selected randomly in sampled negative dataset :  18682\n",
      "Number of rows in balanced dataset  37399\n",
      "positive cases in training set:  50.04679269499185 %\n",
      "\n",
      "number of positive cases are 18717\n"
     ]
    },
    {
     "name": "stderr",
     "output_type": "stream",
     "text": [
      "C:\\ProgramData\\Anaconda3\\lib\\site-packages\\lightgbm\\basic.py:1291: UserWarning: Using categorical_feature in Dataset.\n",
      "  warnings.warn('Using categorical_feature in Dataset.')\n"
     ]
    },
    {
     "name": "stdout",
     "output_type": "stream",
     "text": [
      "Training until validation scores don't improve for 50 rounds\n",
      "[50]\ttrain's auc: 0.956486\tvalid's auc: 0.945553\n",
      "[100]\ttrain's auc: 0.961768\tvalid's auc: 0.947986\n",
      "Early stopping, best iteration is:\n",
      "[76]\ttrain's auc: 0.960513\tvalid's auc: 0.948135\n",
      "[train with valid] done in 1 s\n",
      "Plotting feature importances...\n"
     ]
    },
    {
     "data": {
      "image/png": "[encoded data removed]",
      "text/plain": [
       "<Figure size 432x288 with 1 Axes>"
      ]
     },
     "metadata": {
      "needs_background": "light"
     },
     "output_type": "display_data"
    },
    {
     "data": {
      "text/plain": [
       "array([0.80514394, 0.99243427, 0.51244711, ..., 0.65421958, 0.98777801,\n",
       "       0.98549045])"
      ]
     },
     "execution_count": 48,
     "metadata": {},
     "output_type": "execute_result"
    }
   ],
   "source": [
    "#train_df=dfTrain\n",
    "train_df = pd.read_csv(\"D:/train.csv/mnt/ssd/kaggle-talkingdata2/competition_files/train.csv\", nrows=10000000)\n",
    "train_df['click_time'] = pd.to_datetime(train_df['click_time'])\n",
    "train_df['attributed_time'] = pd.to_datetime(train_df['attributed_time'])\n",
    "\n",
    "train_df['hour'] = train_df.click_time.dt.hour.astype('uint8')\n",
    "train_df['day'] = train_df.click_time.dt.day.astype('uint8')\n",
    "train_df.drop(['attributed_time'], axis=1, inplace=True)\n",
    "train_df.drop(['click_time'], axis=1, inplace=True)\n",
    "\n",
    "train_df = down_sampling(train_df)\n",
    "\n",
    "@contextmanager\n",
    "def timer(name):\n",
    "    t0=time.time()\n",
    "    yield\n",
    "    print(f'[{name}] done in {time.time()-t0:.0f} s')\n",
    "\n",
    "VALIDATE = False\n",
    "RANDOM_STATE = 50\n",
    "VALID_SIZE = 0.30\n",
    "MAX_ROUNDS = 1000\n",
    "EARLY_STOP = 50\n",
    "OPT_ROUNDS = 650\n",
    "skiprows = range(1,134903891)\n",
    "nrows = 50000000\n",
    "\n",
    "target = 'is_attributed'\n",
    "predictors = ['ip', 'app','device','os', 'channel', 'day', 'hour']\n",
    "categorical = ['ip', 'app', 'device', 'os', 'channel', 'day', 'hour']\n",
    "\n",
    "train_df, val_df = model_tts(train_df, test_size=VALID_SIZE, random_state=RANDOM_STATE, shuffle=True )\n",
    "\n",
    "params = {\n",
    "          'boosting_type': 'gbdt',\n",
    "          'objective': 'binary',\n",
    "          'metric':'auc',\n",
    "          'learning_rate': 0.1,\n",
    "          'num_leaves': 9,  # we should let it be smaller than 2^(max_depth)\n",
    "          'max_depth': 5,  # -1 means no limit\n",
    "          'min_child_samples': 100,  # Minimum number of data need in a child(min_data_in_leaf)\n",
    "          'max_bin': 100,  # Number of bucketed bin for feature values\n",
    "          'subsample': 0.9,  # Subsample ratio of the training instance.\n",
    "          'subsample_freq': 1,  # frequence of subsample, <=0 means no enable\n",
    "          'colsample_bytree': 0.7,  # Subsample ratio of columns when constructing each tree.\n",
    "          'min_child_weight': 0,  # Minimum sum of instance weight(hessian) needed in a child(leaf)\n",
    "          'min_split_gain': 0,  # lambda_l1, lambda_l2 and min_gain_to_split to regularization\n",
    "          'nthread': 8,\n",
    "          'verbose': 0,\n",
    "          'scale_pos_weight':200, # because training data is extremely unbalanced \n",
    "          'num_threads':32\n",
    "         }\n",
    "dtrain = lgb.Dataset(train_df[predictors].values, \n",
    "                             label=train_df[target].values,\n",
    "                             feature_name=predictors,\n",
    "                             categorical_feature=categorical)\n",
    "\n",
    "dvalid = lgb.Dataset(val_df[predictors].values,\n",
    "                             label=val_df[target].values,\n",
    "                             feature_name=predictors,\n",
    "                             categorical_feature=categorical)\n",
    "evals_result = {}\n",
    "with timer('train with valid'):\n",
    "    model = lgb.train(params, dtrain, valid_sets=[dtrain, dvalid], \n",
    "                          valid_names=['train','valid'], \n",
    "                          evals_result=evals_result, \n",
    "                          num_boost_round=MAX_ROUNDS,\n",
    "                          early_stopping_rounds=EARLY_STOP,\n",
    "                          verbose_eval=50, \n",
    "                          feval=None)\n",
    "        \n",
    "\n",
    "print('Plotting feature importances...')\n",
    "lgb.plot_importance(model, max_num_features=30)\n",
    "plt.show()\n",
    "\n",
    "\n",
    "# In[164]:\n",
    "\n",
    "\n",
    "test_data = dfTest\n",
    "yTest = test_data['is_attributed']\n",
    "xTest = test_data.drop('is_attributed',axis=1)\n",
    "\n",
    "pred = model.predict(xTest, num_iteration=model.best_iteration)\n",
    "pred\n"
   ]
  },
  {
   "cell_type": "code",
   "execution_count": null,
   "metadata": {},
   "outputs": [],
   "source": []
  }
 ],
 "metadata": {
  "kernelspec": {
   "display_name": "Python 3",
   "language": "python",
   "name": "python3"
  },
  "language_info": {
   "codemirror_mode": {
    "name": "ipython",
    "version": 3
   },
   "file_extension": ".py",
   "mimetype": "text/x-python",
   "name": "python",
   "nbconvert_exporter": "python",
   "pygments_lexer": "ipython3",
   "version": "3.7.3"
  }
 },
 "nbformat": 4,
 "nbformat_minor": 2
}
